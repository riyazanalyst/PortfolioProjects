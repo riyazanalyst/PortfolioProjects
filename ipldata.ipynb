{
  "metadata": {
    "language_info": {
      "codemirror_mode": {
        "name": "python",
        "version": 3
      },
      "file_extension": ".py",
      "mimetype": "text/x-python",
      "name": "python",
      "nbconvert_exporter": "python",
      "pygments_lexer": "ipython3",
      "version": "3.8"
    },
    "kernelspec": {
      "name": "python",
      "display_name": "Python (Pyodide)",
      "language": "python"
    }
  },
  "nbformat_minor": 4,
  "nbformat": 4,
  "cells": [
    {
      "cell_type": "code",
      "source": "import pandas as pd",
      "metadata": {
        "trusted": true
      },
      "execution_count": 2,
      "outputs": []
    },
    {
      "cell_type": "code",
      "source": "data = pd.read_csv('IPLData.csv')",
      "metadata": {
        "trusted": true
      },
      "execution_count": 3,
      "outputs": []
    },
    {
      "cell_type": "code",
      "source": "data",
      "metadata": {
        "trusted": true
      },
      "execution_count": 4,
      "outputs": [
        {
          "execution_count": 4,
          "output_type": "execute_result",
          "data": {
            "text/plain": "         Player Name       Team Nationality Player_Type  Capped  \\\n0     Shikhar Dhawan     Punjab      Indian      Batter       1   \n1      Shreyas Iyer     Kolkata      Indian      Batter       1   \n2     Faf Du Plessis  Bangalore    Overseas      Batter       1   \n3     Manish Pandey     Lucknow      Indian      Batter       1   \n4    Shimron Hetmyer  Rajasthan    Overseas      Batter       1   \n..               ...        ...         ...         ...     ...   \n230     Ravi Bishnoi    Lucknow      Indian     Bowler        1   \n231  Ruturaj Gaikwad    Chennai      Indian      Batter       1   \n232    Sunil Narine     Kolkata    Overseas  Allrounder       1   \n233  Kieron Pollard      Mumbai    Overseas  Allrounder       1   \n234    Anrich Nortje      Delhi    Overseas     Bowler        1   \n\n     Matches_Played    Runs  Average  Strike_Rate  Wickets  Bowling_average  \\\n0             192.0  5783.0    34.63       126.60      4.0            16.50   \n1              87.0  2375.0    31.67       123.96      NaN              NaN   \n2             100.0  2935.0    34.94       131.09      NaN              NaN   \n3             154.0  3560.0    30.69       121.83      NaN              NaN   \n4              31.0   517.0    25.85       151.17      NaN              NaN   \n..              ...     ...      ...          ...      ...              ...   \n230            23.0     8.0     4.00        50.00     24.0            25.25   \n231            22.0   839.0    46.61       132.13      NaN              NaN   \n232           134.0   954.0    15.64       161.69    143.0            24.53   \n233           178.0  3268.0    29.98       149.77     65.0            31.62   \n234            24.0     7.0     7.00       116.67     34.0            20.56   \n\n     Economy  Bowling_Strike_Rate  Catches  Run_outs  Stumps  \n0       8.25                12.00      NaN       NaN     NaN  \n1        NaN                  NaN      NaN       NaN     NaN  \n2        NaN                  NaN      NaN       NaN     NaN  \n3        NaN                  NaN      NaN       NaN     NaN  \n4        NaN                  NaN      NaN       NaN     NaN  \n..       ...                  ...      ...       ...     ...  \n230     6.97                21.75      NaN       NaN     NaN  \n231      NaN                  NaN      NaN       NaN     NaN  \n232     6.74                21.83      NaN       NaN     NaN  \n233     8.78                21.60      NaN       NaN     NaN  \n234     7.65                16.12      NaN       NaN     NaN  \n\n[235 rows x 16 columns]",
            "text/html": "<div>\n<style scoped>\n    .dataframe tbody tr th:only-of-type {\n        vertical-align: middle;\n    }\n\n    .dataframe tbody tr th {\n        vertical-align: top;\n    }\n\n    .dataframe thead th {\n        text-align: right;\n    }\n</style>\n<table border=\"1\" class=\"dataframe\">\n  <thead>\n    <tr style=\"text-align: right;\">\n      <th></th>\n      <th>Player Name</th>\n      <th>Team</th>\n      <th>Nationality</th>\n      <th>Player_Type</th>\n      <th>Capped</th>\n      <th>Matches_Played</th>\n      <th>Runs</th>\n      <th>Average</th>\n      <th>Strike_Rate</th>\n      <th>Wickets</th>\n      <th>Bowling_average</th>\n      <th>Economy</th>\n      <th>Bowling_Strike_Rate</th>\n      <th>Catches</th>\n      <th>Run_outs</th>\n      <th>Stumps</th>\n    </tr>\n  </thead>\n  <tbody>\n    <tr>\n      <th>0</th>\n      <td>Shikhar Dhawan</td>\n      <td>Punjab</td>\n      <td>Indian</td>\n      <td>Batter</td>\n      <td>1</td>\n      <td>192.0</td>\n      <td>5783.0</td>\n      <td>34.63</td>\n      <td>126.60</td>\n      <td>4.0</td>\n      <td>16.50</td>\n      <td>8.25</td>\n      <td>12.00</td>\n      <td>NaN</td>\n      <td>NaN</td>\n      <td>NaN</td>\n    </tr>\n    <tr>\n      <th>1</th>\n      <td>Shreyas Iyer</td>\n      <td>Kolkata</td>\n      <td>Indian</td>\n      <td>Batter</td>\n      <td>1</td>\n      <td>87.0</td>\n      <td>2375.0</td>\n      <td>31.67</td>\n      <td>123.96</td>\n      <td>NaN</td>\n      <td>NaN</td>\n      <td>NaN</td>\n      <td>NaN</td>\n      <td>NaN</td>\n      <td>NaN</td>\n      <td>NaN</td>\n    </tr>\n    <tr>\n      <th>2</th>\n      <td>Faf Du Plessis</td>\n      <td>Bangalore</td>\n      <td>Overseas</td>\n      <td>Batter</td>\n      <td>1</td>\n      <td>100.0</td>\n      <td>2935.0</td>\n      <td>34.94</td>\n      <td>131.09</td>\n      <td>NaN</td>\n      <td>NaN</td>\n      <td>NaN</td>\n      <td>NaN</td>\n      <td>NaN</td>\n      <td>NaN</td>\n      <td>NaN</td>\n    </tr>\n    <tr>\n      <th>3</th>\n      <td>Manish Pandey</td>\n      <td>Lucknow</td>\n      <td>Indian</td>\n      <td>Batter</td>\n      <td>1</td>\n      <td>154.0</td>\n      <td>3560.0</td>\n      <td>30.69</td>\n      <td>121.83</td>\n      <td>NaN</td>\n      <td>NaN</td>\n      <td>NaN</td>\n      <td>NaN</td>\n      <td>NaN</td>\n      <td>NaN</td>\n      <td>NaN</td>\n    </tr>\n    <tr>\n      <th>4</th>\n      <td>Shimron Hetmyer</td>\n      <td>Rajasthan</td>\n      <td>Overseas</td>\n      <td>Batter</td>\n      <td>1</td>\n      <td>31.0</td>\n      <td>517.0</td>\n      <td>25.85</td>\n      <td>151.17</td>\n      <td>NaN</td>\n      <td>NaN</td>\n      <td>NaN</td>\n      <td>NaN</td>\n      <td>NaN</td>\n      <td>NaN</td>\n      <td>NaN</td>\n    </tr>\n    <tr>\n      <th>...</th>\n      <td>...</td>\n      <td>...</td>\n      <td>...</td>\n      <td>...</td>\n      <td>...</td>\n      <td>...</td>\n      <td>...</td>\n      <td>...</td>\n      <td>...</td>\n      <td>...</td>\n      <td>...</td>\n      <td>...</td>\n      <td>...</td>\n      <td>...</td>\n      <td>...</td>\n      <td>...</td>\n    </tr>\n    <tr>\n      <th>230</th>\n      <td>Ravi Bishnoi</td>\n      <td>Lucknow</td>\n      <td>Indian</td>\n      <td>Bowler</td>\n      <td>1</td>\n      <td>23.0</td>\n      <td>8.0</td>\n      <td>4.00</td>\n      <td>50.00</td>\n      <td>24.0</td>\n      <td>25.25</td>\n      <td>6.97</td>\n      <td>21.75</td>\n      <td>NaN</td>\n      <td>NaN</td>\n      <td>NaN</td>\n    </tr>\n    <tr>\n      <th>231</th>\n      <td>Ruturaj Gaikwad</td>\n      <td>Chennai</td>\n      <td>Indian</td>\n      <td>Batter</td>\n      <td>1</td>\n      <td>22.0</td>\n      <td>839.0</td>\n      <td>46.61</td>\n      <td>132.13</td>\n      <td>NaN</td>\n      <td>NaN</td>\n      <td>NaN</td>\n      <td>NaN</td>\n      <td>NaN</td>\n      <td>NaN</td>\n      <td>NaN</td>\n    </tr>\n    <tr>\n      <th>232</th>\n      <td>Sunil Narine</td>\n      <td>Kolkata</td>\n      <td>Overseas</td>\n      <td>Allrounder</td>\n      <td>1</td>\n      <td>134.0</td>\n      <td>954.0</td>\n      <td>15.64</td>\n      <td>161.69</td>\n      <td>143.0</td>\n      <td>24.53</td>\n      <td>6.74</td>\n      <td>21.83</td>\n      <td>NaN</td>\n      <td>NaN</td>\n      <td>NaN</td>\n    </tr>\n    <tr>\n      <th>233</th>\n      <td>Kieron Pollard</td>\n      <td>Mumbai</td>\n      <td>Overseas</td>\n      <td>Allrounder</td>\n      <td>1</td>\n      <td>178.0</td>\n      <td>3268.0</td>\n      <td>29.98</td>\n      <td>149.77</td>\n      <td>65.0</td>\n      <td>31.62</td>\n      <td>8.78</td>\n      <td>21.60</td>\n      <td>NaN</td>\n      <td>NaN</td>\n      <td>NaN</td>\n    </tr>\n    <tr>\n      <th>234</th>\n      <td>Anrich Nortje</td>\n      <td>Delhi</td>\n      <td>Overseas</td>\n      <td>Bowler</td>\n      <td>1</td>\n      <td>24.0</td>\n      <td>7.0</td>\n      <td>7.00</td>\n      <td>116.67</td>\n      <td>34.0</td>\n      <td>20.56</td>\n      <td>7.65</td>\n      <td>16.12</td>\n      <td>NaN</td>\n      <td>NaN</td>\n      <td>NaN</td>\n    </tr>\n  </tbody>\n</table>\n<p>235 rows × 16 columns</p>\n</div>"
          },
          "metadata": {}
        }
      ]
    },
    {
      "cell_type": "code",
      "source": "data.head()",
      "metadata": {
        "trusted": true
      },
      "execution_count": 5,
      "outputs": [
        {
          "execution_count": 5,
          "output_type": "execute_result",
          "data": {
            "text/plain": "       Player Name       Team Nationality Player_Type  Capped  Matches_Played  \\\n0   Shikhar Dhawan     Punjab      Indian      Batter       1           192.0   \n1    Shreyas Iyer     Kolkata      Indian      Batter       1            87.0   \n2   Faf Du Plessis  Bangalore    Overseas      Batter       1           100.0   \n3   Manish Pandey     Lucknow      Indian      Batter       1           154.0   \n4  Shimron Hetmyer  Rajasthan    Overseas      Batter       1            31.0   \n\n     Runs  Average  Strike_Rate  Wickets  Bowling_average  Economy  \\\n0  5783.0    34.63       126.60      4.0             16.5     8.25   \n1  2375.0    31.67       123.96      NaN              NaN      NaN   \n2  2935.0    34.94       131.09      NaN              NaN      NaN   \n3  3560.0    30.69       121.83      NaN              NaN      NaN   \n4   517.0    25.85       151.17      NaN              NaN      NaN   \n\n   Bowling_Strike_Rate  Catches  Run_outs  Stumps  \n0                 12.0      NaN       NaN     NaN  \n1                  NaN      NaN       NaN     NaN  \n2                  NaN      NaN       NaN     NaN  \n3                  NaN      NaN       NaN     NaN  \n4                  NaN      NaN       NaN     NaN  ",
            "text/html": "<div>\n<style scoped>\n    .dataframe tbody tr th:only-of-type {\n        vertical-align: middle;\n    }\n\n    .dataframe tbody tr th {\n        vertical-align: top;\n    }\n\n    .dataframe thead th {\n        text-align: right;\n    }\n</style>\n<table border=\"1\" class=\"dataframe\">\n  <thead>\n    <tr style=\"text-align: right;\">\n      <th></th>\n      <th>Player Name</th>\n      <th>Team</th>\n      <th>Nationality</th>\n      <th>Player_Type</th>\n      <th>Capped</th>\n      <th>Matches_Played</th>\n      <th>Runs</th>\n      <th>Average</th>\n      <th>Strike_Rate</th>\n      <th>Wickets</th>\n      <th>Bowling_average</th>\n      <th>Economy</th>\n      <th>Bowling_Strike_Rate</th>\n      <th>Catches</th>\n      <th>Run_outs</th>\n      <th>Stumps</th>\n    </tr>\n  </thead>\n  <tbody>\n    <tr>\n      <th>0</th>\n      <td>Shikhar Dhawan</td>\n      <td>Punjab</td>\n      <td>Indian</td>\n      <td>Batter</td>\n      <td>1</td>\n      <td>192.0</td>\n      <td>5783.0</td>\n      <td>34.63</td>\n      <td>126.60</td>\n      <td>4.0</td>\n      <td>16.5</td>\n      <td>8.25</td>\n      <td>12.0</td>\n      <td>NaN</td>\n      <td>NaN</td>\n      <td>NaN</td>\n    </tr>\n    <tr>\n      <th>1</th>\n      <td>Shreyas Iyer</td>\n      <td>Kolkata</td>\n      <td>Indian</td>\n      <td>Batter</td>\n      <td>1</td>\n      <td>87.0</td>\n      <td>2375.0</td>\n      <td>31.67</td>\n      <td>123.96</td>\n      <td>NaN</td>\n      <td>NaN</td>\n      <td>NaN</td>\n      <td>NaN</td>\n      <td>NaN</td>\n      <td>NaN</td>\n      <td>NaN</td>\n    </tr>\n    <tr>\n      <th>2</th>\n      <td>Faf Du Plessis</td>\n      <td>Bangalore</td>\n      <td>Overseas</td>\n      <td>Batter</td>\n      <td>1</td>\n      <td>100.0</td>\n      <td>2935.0</td>\n      <td>34.94</td>\n      <td>131.09</td>\n      <td>NaN</td>\n      <td>NaN</td>\n      <td>NaN</td>\n      <td>NaN</td>\n      <td>NaN</td>\n      <td>NaN</td>\n      <td>NaN</td>\n    </tr>\n    <tr>\n      <th>3</th>\n      <td>Manish Pandey</td>\n      <td>Lucknow</td>\n      <td>Indian</td>\n      <td>Batter</td>\n      <td>1</td>\n      <td>154.0</td>\n      <td>3560.0</td>\n      <td>30.69</td>\n      <td>121.83</td>\n      <td>NaN</td>\n      <td>NaN</td>\n      <td>NaN</td>\n      <td>NaN</td>\n      <td>NaN</td>\n      <td>NaN</td>\n      <td>NaN</td>\n    </tr>\n    <tr>\n      <th>4</th>\n      <td>Shimron Hetmyer</td>\n      <td>Rajasthan</td>\n      <td>Overseas</td>\n      <td>Batter</td>\n      <td>1</td>\n      <td>31.0</td>\n      <td>517.0</td>\n      <td>25.85</td>\n      <td>151.17</td>\n      <td>NaN</td>\n      <td>NaN</td>\n      <td>NaN</td>\n      <td>NaN</td>\n      <td>NaN</td>\n      <td>NaN</td>\n      <td>NaN</td>\n    </tr>\n  </tbody>\n</table>\n</div>"
          },
          "metadata": {}
        }
      ]
    },
    {
      "cell_type": "code",
      "source": "data.describe()",
      "metadata": {
        "trusted": true
      },
      "execution_count": 6,
      "outputs": [
        {
          "execution_count": 6,
          "output_type": "execute_result",
          "data": {
            "text/plain": "           Capped  Matches_Played         Runs     Average  Strike_Rate  \\\ncount  235.000000      215.000000   165.000000  161.000000   163.000000   \nmean     0.838298       43.897674   840.575758   21.792391   121.009939   \nstd      0.561802       48.695302  1270.341831   11.664156    30.739189   \nmin      0.000000        1.000000     0.000000    0.000000     0.000000   \n25%      0.500000       11.500000    67.000000   13.800000   112.635000   \n50%      1.000000       25.000000   289.000000   22.410000   128.630000   \n75%      1.000000       56.000000   954.000000   29.300000   137.550000   \nmax      2.000000      220.000000  6283.000000   58.500000   190.240000   \n\n          Wickets  Bowling_average     Economy  Bowling_Strike_Rate  \\\ncount  140.000000       135.000000  143.000000           119.000000   \nmean    31.485714        32.907185    8.223182            24.686134   \nstd     36.872420        18.191441    1.223541            12.982049   \nmin      0.000000         0.000000    5.360000             0.000000   \n25%      6.000000        23.025000    7.390000            18.495000   \n50%     19.500000        29.070000    8.190000            21.750000   \n75%     40.500000        36.030000    8.785000            26.190000   \nmax    167.000000       153.000000   13.120000           108.000000   \n\n          Catches   Run_outs     Stumps  \ncount   27.000000  27.000000  27.000000  \nmean    30.962963   3.444444   6.259259  \nstd     34.544822   5.010246   9.928950  \nmin      0.000000   0.000000   0.000000  \n25%      3.500000   0.000000   0.000000  \n50%     19.000000   1.000000   2.000000  \n75%     51.500000   4.000000   7.000000  \nmax    126.000000  21.000000  39.000000  ",
            "text/html": "<div>\n<style scoped>\n    .dataframe tbody tr th:only-of-type {\n        vertical-align: middle;\n    }\n\n    .dataframe tbody tr th {\n        vertical-align: top;\n    }\n\n    .dataframe thead th {\n        text-align: right;\n    }\n</style>\n<table border=\"1\" class=\"dataframe\">\n  <thead>\n    <tr style=\"text-align: right;\">\n      <th></th>\n      <th>Capped</th>\n      <th>Matches_Played</th>\n      <th>Runs</th>\n      <th>Average</th>\n      <th>Strike_Rate</th>\n      <th>Wickets</th>\n      <th>Bowling_average</th>\n      <th>Economy</th>\n      <th>Bowling_Strike_Rate</th>\n      <th>Catches</th>\n      <th>Run_outs</th>\n      <th>Stumps</th>\n    </tr>\n  </thead>\n  <tbody>\n    <tr>\n      <th>count</th>\n      <td>235.000000</td>\n      <td>215.000000</td>\n      <td>165.000000</td>\n      <td>161.000000</td>\n      <td>163.000000</td>\n      <td>140.000000</td>\n      <td>135.000000</td>\n      <td>143.000000</td>\n      <td>119.000000</td>\n      <td>27.000000</td>\n      <td>27.000000</td>\n      <td>27.000000</td>\n    </tr>\n    <tr>\n      <th>mean</th>\n      <td>0.838298</td>\n      <td>43.897674</td>\n      <td>840.575758</td>\n      <td>21.792391</td>\n      <td>121.009939</td>\n      <td>31.485714</td>\n      <td>32.907185</td>\n      <td>8.223182</td>\n      <td>24.686134</td>\n      <td>30.962963</td>\n      <td>3.444444</td>\n      <td>6.259259</td>\n    </tr>\n    <tr>\n      <th>std</th>\n      <td>0.561802</td>\n      <td>48.695302</td>\n      <td>1270.341831</td>\n      <td>11.664156</td>\n      <td>30.739189</td>\n      <td>36.872420</td>\n      <td>18.191441</td>\n      <td>1.223541</td>\n      <td>12.982049</td>\n      <td>34.544822</td>\n      <td>5.010246</td>\n      <td>9.928950</td>\n    </tr>\n    <tr>\n      <th>min</th>\n      <td>0.000000</td>\n      <td>1.000000</td>\n      <td>0.000000</td>\n      <td>0.000000</td>\n      <td>0.000000</td>\n      <td>0.000000</td>\n      <td>0.000000</td>\n      <td>5.360000</td>\n      <td>0.000000</td>\n      <td>0.000000</td>\n      <td>0.000000</td>\n      <td>0.000000</td>\n    </tr>\n    <tr>\n      <th>25%</th>\n      <td>0.500000</td>\n      <td>11.500000</td>\n      <td>67.000000</td>\n      <td>13.800000</td>\n      <td>112.635000</td>\n      <td>6.000000</td>\n      <td>23.025000</td>\n      <td>7.390000</td>\n      <td>18.495000</td>\n      <td>3.500000</td>\n      <td>0.000000</td>\n      <td>0.000000</td>\n    </tr>\n    <tr>\n      <th>50%</th>\n      <td>1.000000</td>\n      <td>25.000000</td>\n      <td>289.000000</td>\n      <td>22.410000</td>\n      <td>128.630000</td>\n      <td>19.500000</td>\n      <td>29.070000</td>\n      <td>8.190000</td>\n      <td>21.750000</td>\n      <td>19.000000</td>\n      <td>1.000000</td>\n      <td>2.000000</td>\n    </tr>\n    <tr>\n      <th>75%</th>\n      <td>1.000000</td>\n      <td>56.000000</td>\n      <td>954.000000</td>\n      <td>29.300000</td>\n      <td>137.550000</td>\n      <td>40.500000</td>\n      <td>36.030000</td>\n      <td>8.785000</td>\n      <td>26.190000</td>\n      <td>51.500000</td>\n      <td>4.000000</td>\n      <td>7.000000</td>\n    </tr>\n    <tr>\n      <th>max</th>\n      <td>2.000000</td>\n      <td>220.000000</td>\n      <td>6283.000000</td>\n      <td>58.500000</td>\n      <td>190.240000</td>\n      <td>167.000000</td>\n      <td>153.000000</td>\n      <td>13.120000</td>\n      <td>108.000000</td>\n      <td>126.000000</td>\n      <td>21.000000</td>\n      <td>39.000000</td>\n    </tr>\n  </tbody>\n</table>\n</div>"
          },
          "metadata": {}
        }
      ]
    },
    {
      "cell_type": "code",
      "source": "#check null values\ndata.isna().sum()",
      "metadata": {
        "trusted": true
      },
      "execution_count": 7,
      "outputs": [
        {
          "execution_count": 7,
          "output_type": "execute_result",
          "data": {
            "text/plain": "Player Name              0\nTeam                     0\nNationality              0\nPlayer_Type              0\nCapped                   0\nMatches_Played          20\nRuns                    70\nAverage                 74\nStrike_Rate             72\nWickets                 95\nBowling_average        100\nEconomy                 92\nBowling_Strike_Rate    116\nCatches                208\nRun_outs               208\nStumps                 208\ndtype: int64"
          },
          "metadata": {}
        }
      ]
    },
    {
      "cell_type": "code",
      "source": "data.info()",
      "metadata": {
        "trusted": true
      },
      "execution_count": 9,
      "outputs": [
        {
          "name": "stdout",
          "text": "<class 'pandas.core.frame.DataFrame'>\nRangeIndex: 235 entries, 0 to 234\nData columns (total 16 columns):\n #   Column               Non-Null Count  Dtype  \n---  ------               --------------  -----  \n 0   Player Name          235 non-null    object \n 1   Team                 235 non-null    object \n 2   Nationality          235 non-null    object \n 3   Player_Type          235 non-null    object \n 4   Capped               235 non-null    int64  \n 5   Matches_Played       215 non-null    float64\n 6   Runs                 165 non-null    float64\n 7   Average              161 non-null    float64\n 8   Strike_Rate          163 non-null    float64\n 9   Wickets              140 non-null    float64\n 10  Bowling_average      135 non-null    float64\n 11  Economy              143 non-null    float64\n 12  Bowling_Strike_Rate  119 non-null    float64\n 13  Catches              27 non-null     float64\n 14  Run_outs             27 non-null     float64\n 15  Stumps               27 non-null     float64\ndtypes: float64(11), int64(1), object(4)\nmemory usage: 25.8+ KB\n",
          "output_type": "stream"
        }
      ]
    },
    {
      "cell_type": "markdown",
      "source": "cleaning the data",
      "metadata": {}
    },
    {
      "cell_type": "code",
      "source": "#cappped batters\nbatters=data.loc[(data[\"Player_Type\"]==\"Batter\")]\nbatters_new=batters.loc[(batters[\"Capped\"]==1)]\ncapped_batters=batters_new[['Player Name','Team','Nationality','Matches_Played','Runs','Average','Strike_Rate']]",
      "metadata": {
        "trusted": true
      },
      "execution_count": 74,
      "outputs": []
    },
    {
      "cell_type": "code",
      "source": "capped_batters.head()",
      "metadata": {
        "trusted": true
      },
      "execution_count": 75,
      "outputs": [
        {
          "execution_count": 75,
          "output_type": "execute_result",
          "data": {
            "text/plain": "       Player Name       Team Nationality  Matches_Played    Runs  Average  \\\n0   Shikhar Dhawan     Punjab      Indian           192.0  5783.0    34.63   \n1    Shreyas Iyer     Kolkata      Indian            87.0  2375.0    31.67   \n2   Faf Du Plessis  Bangalore    Overseas           100.0  2935.0    34.94   \n3   Manish Pandey     Lucknow      Indian           154.0  3560.0    30.69   \n4  Shimron Hetmyer  Rajasthan    Overseas            31.0   517.0    25.85   \n\n   Strike_Rate  \n0       126.60  \n1       123.96  \n2       131.09  \n3       121.83  \n4       151.17  ",
            "text/html": "<div>\n<style scoped>\n    .dataframe tbody tr th:only-of-type {\n        vertical-align: middle;\n    }\n\n    .dataframe tbody tr th {\n        vertical-align: top;\n    }\n\n    .dataframe thead th {\n        text-align: right;\n    }\n</style>\n<table border=\"1\" class=\"dataframe\">\n  <thead>\n    <tr style=\"text-align: right;\">\n      <th></th>\n      <th>Player Name</th>\n      <th>Team</th>\n      <th>Nationality</th>\n      <th>Matches_Played</th>\n      <th>Runs</th>\n      <th>Average</th>\n      <th>Strike_Rate</th>\n    </tr>\n  </thead>\n  <tbody>\n    <tr>\n      <th>0</th>\n      <td>Shikhar Dhawan</td>\n      <td>Punjab</td>\n      <td>Indian</td>\n      <td>192.0</td>\n      <td>5783.0</td>\n      <td>34.63</td>\n      <td>126.60</td>\n    </tr>\n    <tr>\n      <th>1</th>\n      <td>Shreyas Iyer</td>\n      <td>Kolkata</td>\n      <td>Indian</td>\n      <td>87.0</td>\n      <td>2375.0</td>\n      <td>31.67</td>\n      <td>123.96</td>\n    </tr>\n    <tr>\n      <th>2</th>\n      <td>Faf Du Plessis</td>\n      <td>Bangalore</td>\n      <td>Overseas</td>\n      <td>100.0</td>\n      <td>2935.0</td>\n      <td>34.94</td>\n      <td>131.09</td>\n    </tr>\n    <tr>\n      <th>3</th>\n      <td>Manish Pandey</td>\n      <td>Lucknow</td>\n      <td>Indian</td>\n      <td>154.0</td>\n      <td>3560.0</td>\n      <td>30.69</td>\n      <td>121.83</td>\n    </tr>\n    <tr>\n      <th>4</th>\n      <td>Shimron Hetmyer</td>\n      <td>Rajasthan</td>\n      <td>Overseas</td>\n      <td>31.0</td>\n      <td>517.0</td>\n      <td>25.85</td>\n      <td>151.17</td>\n    </tr>\n  </tbody>\n</table>\n</div>"
          },
          "metadata": {}
        }
      ]
    },
    {
      "cell_type": "code",
      "source": "#capped bowlers\nbowlers=data.loc[(data[\"Player_Type\"]==\"Bowler\")]\nbowlers_new=bowlers.loc[(bowlers[\"Capped\"]==1)]\ncapped_bowlers=bowlers_new[['Player Name','Team','Nationality','Matches_Played','Wickets','Bowling_average','Bowling_Strike_Rate']]",
      "metadata": {
        "trusted": true
      },
      "execution_count": 86,
      "outputs": []
    },
    {
      "cell_type": "code",
      "source": "capped_bowlers",
      "metadata": {
        "trusted": true
      },
      "execution_count": 87,
      "outputs": [
        {
          "execution_count": 87,
          "output_type": "execute_result",
          "data": {
            "text/plain": "Empty DataFrame\nColumns: [Player Name, Team, Nationality, Matches_Played, Wickets, Bowling_average, Bowling_Strike_Rate]\nIndex: []",
            "text/html": "<div>\n<style scoped>\n    .dataframe tbody tr th:only-of-type {\n        vertical-align: middle;\n    }\n\n    .dataframe tbody tr th {\n        vertical-align: top;\n    }\n\n    .dataframe thead th {\n        text-align: right;\n    }\n</style>\n<table border=\"1\" class=\"dataframe\">\n  <thead>\n    <tr style=\"text-align: right;\">\n      <th></th>\n      <th>Player Name</th>\n      <th>Team</th>\n      <th>Nationality</th>\n      <th>Matches_Played</th>\n      <th>Wickets</th>\n      <th>Bowling_average</th>\n      <th>Bowling_Strike_Rate</th>\n    </tr>\n  </thead>\n  <tbody>\n  </tbody>\n</table>\n</div>"
          },
          "metadata": {}
        }
      ]
    },
    {
      "cell_type": "code",
      "source": "#capped keepers\nkeepers=data.loc[(data[\"Player_Type\"]==\"Keeper\")]\nkeepers_new=keepers.loc[(keepers[\"Capped\"]==1)]\ncapped_keepers=keepers_new[['Player Name','Team','Nationality','Matches_Played','Runs','Average','Strike_Rate','Catches','Run_outs','Stumps']]",
      "metadata": {
        "trusted": true
      },
      "execution_count": 46,
      "outputs": []
    },
    {
      "cell_type": "code",
      "source": "capped_keepers.head()",
      "metadata": {
        "trusted": true
      },
      "execution_count": 46,
      "outputs": [
        {
          "execution_count": 46,
          "output_type": "execute_result",
          "data": {
            "text/plain": "         Player Name       Team Nationality  Matches_Played    Runs  Average  \\\n105  Quinton De Kock    Lucknow    Overseas            77.0  2256.0     31.3   \n106    Ambati Rayudu    Chennai      Indian           175.0  3916.0     29.4   \n107     Ishan Kishan     Mumbai      Indian            61.0  1452.0     28.5   \n108   Jonny Bairstow     Punjab    Overseas            28.0  1038.0     41.5   \n109   Dinesh Karthik  Bangalore      Indian           213.0  4046.0     25.8   \n\n     Strike_Rate  Catches  Run_outs  Stumps  \n105        130.9     53.0       0.0    14.0  \n106        127.5     58.0      12.0     2.0  \n107        136.3     19.0       1.0     2.0  \n108        142.2     18.0       1.0     4.0  \n109        129.7    123.0      14.0    32.0  ",
            "text/html": "<div>\n<style scoped>\n    .dataframe tbody tr th:only-of-type {\n        vertical-align: middle;\n    }\n\n    .dataframe tbody tr th {\n        vertical-align: top;\n    }\n\n    .dataframe thead th {\n        text-align: right;\n    }\n</style>\n<table border=\"1\" class=\"dataframe\">\n  <thead>\n    <tr style=\"text-align: right;\">\n      <th></th>\n      <th>Player Name</th>\n      <th>Team</th>\n      <th>Nationality</th>\n      <th>Matches_Played</th>\n      <th>Runs</th>\n      <th>Average</th>\n      <th>Strike_Rate</th>\n      <th>Catches</th>\n      <th>Run_outs</th>\n      <th>Stumps</th>\n    </tr>\n  </thead>\n  <tbody>\n    <tr>\n      <th>105</th>\n      <td>Quinton De Kock</td>\n      <td>Lucknow</td>\n      <td>Overseas</td>\n      <td>77.0</td>\n      <td>2256.0</td>\n      <td>31.3</td>\n      <td>130.9</td>\n      <td>53.0</td>\n      <td>0.0</td>\n      <td>14.0</td>\n    </tr>\n    <tr>\n      <th>106</th>\n      <td>Ambati Rayudu</td>\n      <td>Chennai</td>\n      <td>Indian</td>\n      <td>175.0</td>\n      <td>3916.0</td>\n      <td>29.4</td>\n      <td>127.5</td>\n      <td>58.0</td>\n      <td>12.0</td>\n      <td>2.0</td>\n    </tr>\n    <tr>\n      <th>107</th>\n      <td>Ishan Kishan</td>\n      <td>Mumbai</td>\n      <td>Indian</td>\n      <td>61.0</td>\n      <td>1452.0</td>\n      <td>28.5</td>\n      <td>136.3</td>\n      <td>19.0</td>\n      <td>1.0</td>\n      <td>2.0</td>\n    </tr>\n    <tr>\n      <th>108</th>\n      <td>Jonny Bairstow</td>\n      <td>Punjab</td>\n      <td>Overseas</td>\n      <td>28.0</td>\n      <td>1038.0</td>\n      <td>41.5</td>\n      <td>142.2</td>\n      <td>18.0</td>\n      <td>1.0</td>\n      <td>4.0</td>\n    </tr>\n    <tr>\n      <th>109</th>\n      <td>Dinesh Karthik</td>\n      <td>Bangalore</td>\n      <td>Indian</td>\n      <td>213.0</td>\n      <td>4046.0</td>\n      <td>25.8</td>\n      <td>129.7</td>\n      <td>123.0</td>\n      <td>14.0</td>\n      <td>32.0</td>\n    </tr>\n  </tbody>\n</table>\n</div>"
          },
          "metadata": {}
        }
      ]
    },
    {
      "cell_type": "code",
      "source": "#capped allrounders\nallrounders=data.loc[(data[\"Player_Type\"]==\"Allrounder\")]\nallrounders_new=allrounders.loc[(allrounders[\"Capped\"]==1)]\ncapped_allrounders=allrounders_new[['Player Name','Team','Nationality','Matches_Played','Runs','Average','Strike_Rate','Wickets','Bowling_average','Economy','Bowling_Strike_Rate']]",
      "metadata": {
        "trusted": true
      },
      "execution_count": 47,
      "outputs": []
    },
    {
      "cell_type": "code",
      "source": "capped_allrounders.head()",
      "metadata": {
        "trusted": true
      },
      "execution_count": 48,
      "outputs": [
        {
          "execution_count": 48,
          "output_type": "execute_result",
          "data": {
            "text/plain": "              Player Name       Team Nationality  Matches_Played    Runs  \\\n127  Ravichandran Ashwin   Rajasthan      Indian           167.0   456.0   \n128          Pat Cummins     Kolkata    Overseas            37.0   316.0   \n129         Dwayne Bravo     Chennai    Overseas           151.0  1537.0   \n130          Nitish Rana     Kolkata      Indian            77.0  1820.0   \n131          Jason Holder    Lucknow    Overseas            26.0   189.0   \n\n     Average  Strike_Rate  Wickets  Bowling_average  Economy  \\\n127    11.12       109.88    145.0            27.80     6.91   \n128    19.75       140.44     38.0            30.13     8.24   \n129    22.94       130.25    167.0            24.32     8.36   \n130    28.00       132.46      7.0            22.00     8.03   \n131    14.54       121.15     35.0            22.46     8.20   \n\n     Bowling_Strike_Rate  \n127                24.12  \n128                21.95  \n129                17.44  \n130                16.43  \n131                16.43  ",
            "text/html": "<div>\n<style scoped>\n    .dataframe tbody tr th:only-of-type {\n        vertical-align: middle;\n    }\n\n    .dataframe tbody tr th {\n        vertical-align: top;\n    }\n\n    .dataframe thead th {\n        text-align: right;\n    }\n</style>\n<table border=\"1\" class=\"dataframe\">\n  <thead>\n    <tr style=\"text-align: right;\">\n      <th></th>\n      <th>Player Name</th>\n      <th>Team</th>\n      <th>Nationality</th>\n      <th>Matches_Played</th>\n      <th>Runs</th>\n      <th>Average</th>\n      <th>Strike_Rate</th>\n      <th>Wickets</th>\n      <th>Bowling_average</th>\n      <th>Economy</th>\n      <th>Bowling_Strike_Rate</th>\n    </tr>\n  </thead>\n  <tbody>\n    <tr>\n      <th>127</th>\n      <td>Ravichandran Ashwin</td>\n      <td>Rajasthan</td>\n      <td>Indian</td>\n      <td>167.0</td>\n      <td>456.0</td>\n      <td>11.12</td>\n      <td>109.88</td>\n      <td>145.0</td>\n      <td>27.80</td>\n      <td>6.91</td>\n      <td>24.12</td>\n    </tr>\n    <tr>\n      <th>128</th>\n      <td>Pat Cummins</td>\n      <td>Kolkata</td>\n      <td>Overseas</td>\n      <td>37.0</td>\n      <td>316.0</td>\n      <td>19.75</td>\n      <td>140.44</td>\n      <td>38.0</td>\n      <td>30.13</td>\n      <td>8.24</td>\n      <td>21.95</td>\n    </tr>\n    <tr>\n      <th>129</th>\n      <td>Dwayne Bravo</td>\n      <td>Chennai</td>\n      <td>Overseas</td>\n      <td>151.0</td>\n      <td>1537.0</td>\n      <td>22.94</td>\n      <td>130.25</td>\n      <td>167.0</td>\n      <td>24.32</td>\n      <td>8.36</td>\n      <td>17.44</td>\n    </tr>\n    <tr>\n      <th>130</th>\n      <td>Nitish Rana</td>\n      <td>Kolkata</td>\n      <td>Indian</td>\n      <td>77.0</td>\n      <td>1820.0</td>\n      <td>28.00</td>\n      <td>132.46</td>\n      <td>7.0</td>\n      <td>22.00</td>\n      <td>8.03</td>\n      <td>16.43</td>\n    </tr>\n    <tr>\n      <th>131</th>\n      <td>Jason Holder</td>\n      <td>Lucknow</td>\n      <td>Overseas</td>\n      <td>26.0</td>\n      <td>189.0</td>\n      <td>14.54</td>\n      <td>121.15</td>\n      <td>35.0</td>\n      <td>22.46</td>\n      <td>8.20</td>\n      <td>16.43</td>\n    </tr>\n  </tbody>\n</table>\n</div>"
          },
          "metadata": {}
        }
      ]
    },
    {
      "cell_type": "code",
      "source": "#making null value or NAN values to 0\ncapped_batters=capped_batters.fillna(0)\ncapped_bowlers=capped_bowlers.fillna(0)\ncapped_keepers=capped_keepers.fillna(0)\ncapped_allrounders=capped_allrounders.fillna(0)",
      "metadata": {
        "trusted": true
      },
      "execution_count": 88,
      "outputs": []
    },
    {
      "cell_type": "code",
      "source": "#checking null values\nprint(capped_batters.isna().sum())\nprint(capped_bowlers.isna().sum())\nprint(capped_allrounders.isna().sum())\nprint(capped_keepers.isna().sum())",
      "metadata": {
        "trusted": true
      },
      "execution_count": 54,
      "outputs": [
        {
          "name": "stdout",
          "text": "Player Name       0\nTeam              0\nNationality       0\nMatches_Played    0\nRuns              0\nAverage           0\nStrike_Rate       0\ndtype: int64\nPlayer Name            0.0\nTeam                   0.0\nNationality            0.0\nMatches_Played         0.0\nWickets                0.0\nBowling_average        0.0\nEconomy                0.0\nBowling_Strike_Rate    0.0\ndtype: float64\nPlayer Name            0\nTeam                   0\nNationality            0\nMatches_Played         0\nRuns                   0\nAverage                0\nStrike_Rate            0\nWickets                0\nBowling_average        0\nEconomy                0\nBowling_Strike_Rate    0\ndtype: int64\nPlayer Name       0\nTeam              0\nNationality       0\nMatches_Played    0\nRuns              0\nAverage           0\nStrike_Rate       0\nCatches           0\nRun_outs          0\nStumps            0\ndtype: int64\n",
          "output_type": "stream"
        }
      ]
    },
    {
      "cell_type": "markdown",
      "source": "INITIAL ANALYSIS\n\n",
      "metadata": {}
    },
    {
      "cell_type": "code",
      "source": "#analysing the batters average\ntop_batters=capped_batters.loc[(capped_batters[\"Average\"]>=32.00)]\ntop_batters\n\n\n#sorting the data in descending orders\ntop_batters_average=top_batters.sort_values('Average',ascending=False)\ntop_batters_strike_rate=top_batters.sort_values('Strike_Rate',ascending=False)\ntop_batters_runs=top_batters.sort_values('Runs',ascending=False)\ntop_batters_matches=top_batters.sort_values('Matches_Played',ascending=False)",
      "metadata": {
        "trusted": true
      },
      "execution_count": 77,
      "outputs": []
    },
    {
      "cell_type": "code",
      "source": "top_batters_average",
      "metadata": {
        "trusted": true
      },
      "execution_count": 62,
      "outputs": [
        {
          "execution_count": 62,
          "output_type": "execute_result",
          "data": {
            "text/plain": "         Player Name       Team Nationality  Matches_Played    Runs  Average  \\\n212        KL Rahul     Lucknow      Indian            94.0  3273.0    47.43   \n231  Ruturaj Gaikwad    Chennai      Indian            22.0   839.0    46.61   \n19     David Warner       Delhi    Overseas           150.0  5449.0    41.60   \n207  Kane Williamson  Hyderabad    Overseas            63.0  1885.0    40.11   \n208      Virat Kohli  Bangalore      Indian           207.0  6283.0    37.40   \n2     Faf Du Plessis  Bangalore    Overseas           100.0  2935.0    34.94   \n0     Shikhar Dhawan     Punjab      Indian           192.0  5783.0    34.63   \n26     David Miller     Gujarat    Overseas            89.0  1974.0    32.90   \n\n     Strike_Rate  \n212       136.38  \n231       132.13  \n19        139.97  \n207       131.27  \n208       129.95  \n2         131.09  \n0         126.60  \n26        136.51  ",
            "text/html": "<div>\n<style scoped>\n    .dataframe tbody tr th:only-of-type {\n        vertical-align: middle;\n    }\n\n    .dataframe tbody tr th {\n        vertical-align: top;\n    }\n\n    .dataframe thead th {\n        text-align: right;\n    }\n</style>\n<table border=\"1\" class=\"dataframe\">\n  <thead>\n    <tr style=\"text-align: right;\">\n      <th></th>\n      <th>Player Name</th>\n      <th>Team</th>\n      <th>Nationality</th>\n      <th>Matches_Played</th>\n      <th>Runs</th>\n      <th>Average</th>\n      <th>Strike_Rate</th>\n    </tr>\n  </thead>\n  <tbody>\n    <tr>\n      <th>212</th>\n      <td>KL Rahul</td>\n      <td>Lucknow</td>\n      <td>Indian</td>\n      <td>94.0</td>\n      <td>3273.0</td>\n      <td>47.43</td>\n      <td>136.38</td>\n    </tr>\n    <tr>\n      <th>231</th>\n      <td>Ruturaj Gaikwad</td>\n      <td>Chennai</td>\n      <td>Indian</td>\n      <td>22.0</td>\n      <td>839.0</td>\n      <td>46.61</td>\n      <td>132.13</td>\n    </tr>\n    <tr>\n      <th>19</th>\n      <td>David Warner</td>\n      <td>Delhi</td>\n      <td>Overseas</td>\n      <td>150.0</td>\n      <td>5449.0</td>\n      <td>41.60</td>\n      <td>139.97</td>\n    </tr>\n    <tr>\n      <th>207</th>\n      <td>Kane Williamson</td>\n      <td>Hyderabad</td>\n      <td>Overseas</td>\n      <td>63.0</td>\n      <td>1885.0</td>\n      <td>40.11</td>\n      <td>131.27</td>\n    </tr>\n    <tr>\n      <th>208</th>\n      <td>Virat Kohli</td>\n      <td>Bangalore</td>\n      <td>Indian</td>\n      <td>207.0</td>\n      <td>6283.0</td>\n      <td>37.40</td>\n      <td>129.95</td>\n    </tr>\n    <tr>\n      <th>2</th>\n      <td>Faf Du Plessis</td>\n      <td>Bangalore</td>\n      <td>Overseas</td>\n      <td>100.0</td>\n      <td>2935.0</td>\n      <td>34.94</td>\n      <td>131.09</td>\n    </tr>\n    <tr>\n      <th>0</th>\n      <td>Shikhar Dhawan</td>\n      <td>Punjab</td>\n      <td>Indian</td>\n      <td>192.0</td>\n      <td>5783.0</td>\n      <td>34.63</td>\n      <td>126.60</td>\n    </tr>\n    <tr>\n      <th>26</th>\n      <td>David Miller</td>\n      <td>Gujarat</td>\n      <td>Overseas</td>\n      <td>89.0</td>\n      <td>1974.0</td>\n      <td>32.90</td>\n      <td>136.51</td>\n    </tr>\n  </tbody>\n</table>\n</div>"
          },
          "metadata": {}
        }
      ]
    },
    {
      "cell_type": "code",
      "source": "top_batters_strike_rate",
      "metadata": {
        "trusted": true
      },
      "execution_count": 63,
      "outputs": [
        {
          "execution_count": 63,
          "output_type": "execute_result",
          "data": {
            "text/plain": "         Player Name       Team Nationality  Matches_Played    Runs  Average  \\\n19     David Warner       Delhi    Overseas           150.0  5449.0    41.60   \n26     David Miller     Gujarat    Overseas            89.0  1974.0    32.90   \n212        KL Rahul     Lucknow      Indian            94.0  3273.0    47.43   \n231  Ruturaj Gaikwad    Chennai      Indian            22.0   839.0    46.61   \n207  Kane Williamson  Hyderabad    Overseas            63.0  1885.0    40.11   \n2     Faf Du Plessis  Bangalore    Overseas           100.0  2935.0    34.94   \n208      Virat Kohli  Bangalore      Indian           207.0  6283.0    37.40   \n0     Shikhar Dhawan     Punjab      Indian           192.0  5783.0    34.63   \n\n     Strike_Rate  \n19        139.97  \n26        136.51  \n212       136.38  \n231       132.13  \n207       131.27  \n2         131.09  \n208       129.95  \n0         126.60  ",
            "text/html": "<div>\n<style scoped>\n    .dataframe tbody tr th:only-of-type {\n        vertical-align: middle;\n    }\n\n    .dataframe tbody tr th {\n        vertical-align: top;\n    }\n\n    .dataframe thead th {\n        text-align: right;\n    }\n</style>\n<table border=\"1\" class=\"dataframe\">\n  <thead>\n    <tr style=\"text-align: right;\">\n      <th></th>\n      <th>Player Name</th>\n      <th>Team</th>\n      <th>Nationality</th>\n      <th>Matches_Played</th>\n      <th>Runs</th>\n      <th>Average</th>\n      <th>Strike_Rate</th>\n    </tr>\n  </thead>\n  <tbody>\n    <tr>\n      <th>19</th>\n      <td>David Warner</td>\n      <td>Delhi</td>\n      <td>Overseas</td>\n      <td>150.0</td>\n      <td>5449.0</td>\n      <td>41.60</td>\n      <td>139.97</td>\n    </tr>\n    <tr>\n      <th>26</th>\n      <td>David Miller</td>\n      <td>Gujarat</td>\n      <td>Overseas</td>\n      <td>89.0</td>\n      <td>1974.0</td>\n      <td>32.90</td>\n      <td>136.51</td>\n    </tr>\n    <tr>\n      <th>212</th>\n      <td>KL Rahul</td>\n      <td>Lucknow</td>\n      <td>Indian</td>\n      <td>94.0</td>\n      <td>3273.0</td>\n      <td>47.43</td>\n      <td>136.38</td>\n    </tr>\n    <tr>\n      <th>231</th>\n      <td>Ruturaj Gaikwad</td>\n      <td>Chennai</td>\n      <td>Indian</td>\n      <td>22.0</td>\n      <td>839.0</td>\n      <td>46.61</td>\n      <td>132.13</td>\n    </tr>\n    <tr>\n      <th>207</th>\n      <td>Kane Williamson</td>\n      <td>Hyderabad</td>\n      <td>Overseas</td>\n      <td>63.0</td>\n      <td>1885.0</td>\n      <td>40.11</td>\n      <td>131.27</td>\n    </tr>\n    <tr>\n      <th>2</th>\n      <td>Faf Du Plessis</td>\n      <td>Bangalore</td>\n      <td>Overseas</td>\n      <td>100.0</td>\n      <td>2935.0</td>\n      <td>34.94</td>\n      <td>131.09</td>\n    </tr>\n    <tr>\n      <th>208</th>\n      <td>Virat Kohli</td>\n      <td>Bangalore</td>\n      <td>Indian</td>\n      <td>207.0</td>\n      <td>6283.0</td>\n      <td>37.40</td>\n      <td>129.95</td>\n    </tr>\n    <tr>\n      <th>0</th>\n      <td>Shikhar Dhawan</td>\n      <td>Punjab</td>\n      <td>Indian</td>\n      <td>192.0</td>\n      <td>5783.0</td>\n      <td>34.63</td>\n      <td>126.60</td>\n    </tr>\n  </tbody>\n</table>\n</div>"
          },
          "metadata": {}
        }
      ]
    },
    {
      "cell_type": "code",
      "source": "top_batters_runs",
      "metadata": {
        "trusted": true
      },
      "execution_count": 64,
      "outputs": [
        {
          "execution_count": 64,
          "output_type": "execute_result",
          "data": {
            "text/plain": "         Player Name       Team Nationality  Matches_Played    Runs  Average  \\\n208      Virat Kohli  Bangalore      Indian           207.0  6283.0    37.40   \n0     Shikhar Dhawan     Punjab      Indian           192.0  5783.0    34.63   \n19     David Warner       Delhi    Overseas           150.0  5449.0    41.60   \n212        KL Rahul     Lucknow      Indian            94.0  3273.0    47.43   \n2     Faf Du Plessis  Bangalore    Overseas           100.0  2935.0    34.94   \n26     David Miller     Gujarat    Overseas            89.0  1974.0    32.90   \n207  Kane Williamson  Hyderabad    Overseas            63.0  1885.0    40.11   \n231  Ruturaj Gaikwad    Chennai      Indian            22.0   839.0    46.61   \n\n     Strike_Rate  \n208       129.95  \n0         126.60  \n19        139.97  \n212       136.38  \n2         131.09  \n26        136.51  \n207       131.27  \n231       132.13  ",
            "text/html": "<div>\n<style scoped>\n    .dataframe tbody tr th:only-of-type {\n        vertical-align: middle;\n    }\n\n    .dataframe tbody tr th {\n        vertical-align: top;\n    }\n\n    .dataframe thead th {\n        text-align: right;\n    }\n</style>\n<table border=\"1\" class=\"dataframe\">\n  <thead>\n    <tr style=\"text-align: right;\">\n      <th></th>\n      <th>Player Name</th>\n      <th>Team</th>\n      <th>Nationality</th>\n      <th>Matches_Played</th>\n      <th>Runs</th>\n      <th>Average</th>\n      <th>Strike_Rate</th>\n    </tr>\n  </thead>\n  <tbody>\n    <tr>\n      <th>208</th>\n      <td>Virat Kohli</td>\n      <td>Bangalore</td>\n      <td>Indian</td>\n      <td>207.0</td>\n      <td>6283.0</td>\n      <td>37.40</td>\n      <td>129.95</td>\n    </tr>\n    <tr>\n      <th>0</th>\n      <td>Shikhar Dhawan</td>\n      <td>Punjab</td>\n      <td>Indian</td>\n      <td>192.0</td>\n      <td>5783.0</td>\n      <td>34.63</td>\n      <td>126.60</td>\n    </tr>\n    <tr>\n      <th>19</th>\n      <td>David Warner</td>\n      <td>Delhi</td>\n      <td>Overseas</td>\n      <td>150.0</td>\n      <td>5449.0</td>\n      <td>41.60</td>\n      <td>139.97</td>\n    </tr>\n    <tr>\n      <th>212</th>\n      <td>KL Rahul</td>\n      <td>Lucknow</td>\n      <td>Indian</td>\n      <td>94.0</td>\n      <td>3273.0</td>\n      <td>47.43</td>\n      <td>136.38</td>\n    </tr>\n    <tr>\n      <th>2</th>\n      <td>Faf Du Plessis</td>\n      <td>Bangalore</td>\n      <td>Overseas</td>\n      <td>100.0</td>\n      <td>2935.0</td>\n      <td>34.94</td>\n      <td>131.09</td>\n    </tr>\n    <tr>\n      <th>26</th>\n      <td>David Miller</td>\n      <td>Gujarat</td>\n      <td>Overseas</td>\n      <td>89.0</td>\n      <td>1974.0</td>\n      <td>32.90</td>\n      <td>136.51</td>\n    </tr>\n    <tr>\n      <th>207</th>\n      <td>Kane Williamson</td>\n      <td>Hyderabad</td>\n      <td>Overseas</td>\n      <td>63.0</td>\n      <td>1885.0</td>\n      <td>40.11</td>\n      <td>131.27</td>\n    </tr>\n    <tr>\n      <th>231</th>\n      <td>Ruturaj Gaikwad</td>\n      <td>Chennai</td>\n      <td>Indian</td>\n      <td>22.0</td>\n      <td>839.0</td>\n      <td>46.61</td>\n      <td>132.13</td>\n    </tr>\n  </tbody>\n</table>\n</div>"
          },
          "metadata": {}
        }
      ]
    },
    {
      "cell_type": "code",
      "source": "top_batters_matches",
      "metadata": {
        "trusted": true
      },
      "execution_count": 65,
      "outputs": [
        {
          "execution_count": 65,
          "output_type": "execute_result",
          "data": {
            "text/plain": "         Player Name       Team Nationality  Matches_Played    Runs  Average  \\\n208      Virat Kohli  Bangalore      Indian           207.0  6283.0    37.40   \n0     Shikhar Dhawan     Punjab      Indian           192.0  5783.0    34.63   \n19     David Warner       Delhi    Overseas           150.0  5449.0    41.60   \n2     Faf Du Plessis  Bangalore    Overseas           100.0  2935.0    34.94   \n212        KL Rahul     Lucknow      Indian            94.0  3273.0    47.43   \n26     David Miller     Gujarat    Overseas            89.0  1974.0    32.90   \n207  Kane Williamson  Hyderabad    Overseas            63.0  1885.0    40.11   \n231  Ruturaj Gaikwad    Chennai      Indian            22.0   839.0    46.61   \n\n     Strike_Rate  \n208       129.95  \n0         126.60  \n19        139.97  \n2         131.09  \n212       136.38  \n26        136.51  \n207       131.27  \n231       132.13  ",
            "text/html": "<div>\n<style scoped>\n    .dataframe tbody tr th:only-of-type {\n        vertical-align: middle;\n    }\n\n    .dataframe tbody tr th {\n        vertical-align: top;\n    }\n\n    .dataframe thead th {\n        text-align: right;\n    }\n</style>\n<table border=\"1\" class=\"dataframe\">\n  <thead>\n    <tr style=\"text-align: right;\">\n      <th></th>\n      <th>Player Name</th>\n      <th>Team</th>\n      <th>Nationality</th>\n      <th>Matches_Played</th>\n      <th>Runs</th>\n      <th>Average</th>\n      <th>Strike_Rate</th>\n    </tr>\n  </thead>\n  <tbody>\n    <tr>\n      <th>208</th>\n      <td>Virat Kohli</td>\n      <td>Bangalore</td>\n      <td>Indian</td>\n      <td>207.0</td>\n      <td>6283.0</td>\n      <td>37.40</td>\n      <td>129.95</td>\n    </tr>\n    <tr>\n      <th>0</th>\n      <td>Shikhar Dhawan</td>\n      <td>Punjab</td>\n      <td>Indian</td>\n      <td>192.0</td>\n      <td>5783.0</td>\n      <td>34.63</td>\n      <td>126.60</td>\n    </tr>\n    <tr>\n      <th>19</th>\n      <td>David Warner</td>\n      <td>Delhi</td>\n      <td>Overseas</td>\n      <td>150.0</td>\n      <td>5449.0</td>\n      <td>41.60</td>\n      <td>139.97</td>\n    </tr>\n    <tr>\n      <th>2</th>\n      <td>Faf Du Plessis</td>\n      <td>Bangalore</td>\n      <td>Overseas</td>\n      <td>100.0</td>\n      <td>2935.0</td>\n      <td>34.94</td>\n      <td>131.09</td>\n    </tr>\n    <tr>\n      <th>212</th>\n      <td>KL Rahul</td>\n      <td>Lucknow</td>\n      <td>Indian</td>\n      <td>94.0</td>\n      <td>3273.0</td>\n      <td>47.43</td>\n      <td>136.38</td>\n    </tr>\n    <tr>\n      <th>26</th>\n      <td>David Miller</td>\n      <td>Gujarat</td>\n      <td>Overseas</td>\n      <td>89.0</td>\n      <td>1974.0</td>\n      <td>32.90</td>\n      <td>136.51</td>\n    </tr>\n    <tr>\n      <th>207</th>\n      <td>Kane Williamson</td>\n      <td>Hyderabad</td>\n      <td>Overseas</td>\n      <td>63.0</td>\n      <td>1885.0</td>\n      <td>40.11</td>\n      <td>131.27</td>\n    </tr>\n    <tr>\n      <th>231</th>\n      <td>Ruturaj Gaikwad</td>\n      <td>Chennai</td>\n      <td>Indian</td>\n      <td>22.0</td>\n      <td>839.0</td>\n      <td>46.61</td>\n      <td>132.13</td>\n    </tr>\n  </tbody>\n</table>\n</div>"
          },
          "metadata": {}
        }
      ]
    },
    {
      "cell_type": "markdown",
      "source": "from our analysis ,the top three batters that is top in all four analysis above \n1.david warner\n2.kl rahul\n3.virat kohli\n\n",
      "metadata": {}
    },
    {
      "cell_type": "code",
      "source": "#analysing the bowlers average\ntop_bowlers=capped_bowlers.loc[(capped_bowlers[\"Bowling_average\"]<=24.00)]\ntop_bowlers\n\n\n#sorting the data in rdescending orders\ntop_bowlers_average=top_bowlers.sort_values('Bowling_average',ascending=False)\ntop_bowlers_strike_rate=top_bowlers.sort_values('Bowling_Strike_Rate',ascending=False)\ntop_bowlers_runs=top_bowlers.sort_values('Wickets',ascending=False)\ntop_bowlers_matches=top_bowlers.sort_values('Matches_Played',ascending=False)",
      "metadata": {
        "trusted": true
      },
      "execution_count": 29,
      "outputs": []
    },
    {
      "cell_type": "code",
      "source": "\n",
      "metadata": {
        "trusted": true
      },
      "execution_count": null,
      "outputs": []
    },
    {
      "cell_type": "code",
      "source": "#analysing allrounderdata \ntop_allrounders=capped_allrounders.loc[(capped_allrounders[\"Strike_Rate\"]>=140.0)]\ntop_allrounders\n\n#analysing the daa in the descending order\ntop_allrounders_average=top_allrounders.sort_values('Average',ascending=False)\ntop_allrounders_strike_rate=top_allrounders.sort_values('Strike_Rate',ascending=False)\ntop_allrounders_runs=top_allrounders.sort_values('Runs',ascending=False)\ntop_allrounders_matches=top_allrounders.sort_values('Matches_Played',ascending=False)\ntop_allrounders_bowling_average=top_allrounders.sort_values('Bowling_average',ascending=False)\ntop_allrounders_wickets=top_allrounders.sort_values('Wickets',ascending=False)\ntop_allrounders_economy=top_allrounders.sort_values('Economy',ascending=False)                                                        ",
      "metadata": {
        "trusted": true
      },
      "execution_count": 36,
      "outputs": []
    },
    {
      "cell_type": "code",
      "source": "top_allrounders_average.head()",
      "metadata": {
        "trusted": true
      },
      "execution_count": 38,
      "outputs": [
        {
          "execution_count": 38,
          "output_type": "execute_result",
          "data": {
            "text/plain": "         Player Name       Team Nationality  Matches_Played    Runs  Average  \\\n233  Kieron Pollard      Mumbai    Overseas           178.0  3268.0    29.98   \n204    Andre Russell    Kolkata    Overseas            84.0  1700.0    29.31   \n211    Hardik Pandya    Gujarat      Indian            92.0  1476.0    27.33   \n218     Glen Maxwell  Bangalore    Overseas            97.0  2018.0    25.23   \n223        Moeen Ali    Chennai    Overseas            34.0   666.0    22.97   \n\n     Strike_Rate  Wickets  Bowling_average  Economy  Bowling_Strike_Rate  \n233       149.77     65.0            31.62     8.78                21.60  \n204       178.57     72.0            26.40     9.05                17.51  \n211       153.91     42.0            31.26     9.07                20.69  \n218       151.84     22.0            41.59     8.55                29.18  \n223       146.37     16.0            29.31     6.85                25.69  ",
            "text/html": "<div>\n<style scoped>\n    .dataframe tbody tr th:only-of-type {\n        vertical-align: middle;\n    }\n\n    .dataframe tbody tr th {\n        vertical-align: top;\n    }\n\n    .dataframe thead th {\n        text-align: right;\n    }\n</style>\n<table border=\"1\" class=\"dataframe\">\n  <thead>\n    <tr style=\"text-align: right;\">\n      <th></th>\n      <th>Player Name</th>\n      <th>Team</th>\n      <th>Nationality</th>\n      <th>Matches_Played</th>\n      <th>Runs</th>\n      <th>Average</th>\n      <th>Strike_Rate</th>\n      <th>Wickets</th>\n      <th>Bowling_average</th>\n      <th>Economy</th>\n      <th>Bowling_Strike_Rate</th>\n    </tr>\n  </thead>\n  <tbody>\n    <tr>\n      <th>233</th>\n      <td>Kieron Pollard</td>\n      <td>Mumbai</td>\n      <td>Overseas</td>\n      <td>178.0</td>\n      <td>3268.0</td>\n      <td>29.98</td>\n      <td>149.77</td>\n      <td>65.0</td>\n      <td>31.62</td>\n      <td>8.78</td>\n      <td>21.60</td>\n    </tr>\n    <tr>\n      <th>204</th>\n      <td>Andre Russell</td>\n      <td>Kolkata</td>\n      <td>Overseas</td>\n      <td>84.0</td>\n      <td>1700.0</td>\n      <td>29.31</td>\n      <td>178.57</td>\n      <td>72.0</td>\n      <td>26.40</td>\n      <td>9.05</td>\n      <td>17.51</td>\n    </tr>\n    <tr>\n      <th>211</th>\n      <td>Hardik Pandya</td>\n      <td>Gujarat</td>\n      <td>Indian</td>\n      <td>92.0</td>\n      <td>1476.0</td>\n      <td>27.33</td>\n      <td>153.91</td>\n      <td>42.0</td>\n      <td>31.26</td>\n      <td>9.07</td>\n      <td>20.69</td>\n    </tr>\n    <tr>\n      <th>218</th>\n      <td>Glen Maxwell</td>\n      <td>Bangalore</td>\n      <td>Overseas</td>\n      <td>97.0</td>\n      <td>2018.0</td>\n      <td>25.23</td>\n      <td>151.84</td>\n      <td>22.0</td>\n      <td>41.59</td>\n      <td>8.55</td>\n      <td>29.18</td>\n    </tr>\n    <tr>\n      <th>223</th>\n      <td>Moeen Ali</td>\n      <td>Chennai</td>\n      <td>Overseas</td>\n      <td>34.0</td>\n      <td>666.0</td>\n      <td>22.97</td>\n      <td>146.37</td>\n      <td>16.0</td>\n      <td>29.31</td>\n      <td>6.85</td>\n      <td>25.69</td>\n    </tr>\n  </tbody>\n</table>\n</div>"
          },
          "metadata": {}
        }
      ]
    },
    {
      "cell_type": "code",
      "source": "top_allrounders_strike_rate.head()",
      "metadata": {
        "trusted": true
      },
      "execution_count": 39,
      "outputs": [
        {
          "execution_count": 39,
          "output_type": "execute_result",
          "data": {
            "text/plain": "       Player Name     Team Nationality  Matches_Played    Runs  Average  \\\n204  Andre Russell  Kolkata    Overseas            84.0  1700.0    29.31   \n154     K Gowtham   Lucknow      Indian            24.0   186.0    14.31   \n232  Sunil Narine   Kolkata    Overseas           134.0   954.0    15.64   \n165   Jofra Archer   Mumbai    Overseas            35.0   195.0    15.00   \n211  Hardik Pandya  Gujarat      Indian            92.0  1476.0    27.33   \n\n     Strike_Rate  Wickets  Bowling_average  Economy  Bowling_Strike_Rate  \n204       178.57     72.0            26.40     9.05                17.51  \n154       169.09     13.0            43.23     8.26                31.38  \n232       161.69    143.0            24.53     6.74                21.83  \n165       157.26     46.0            21.33     7.13                17.93  \n211       153.91     42.0            31.26     9.07                20.69  ",
            "text/html": "<div>\n<style scoped>\n    .dataframe tbody tr th:only-of-type {\n        vertical-align: middle;\n    }\n\n    .dataframe tbody tr th {\n        vertical-align: top;\n    }\n\n    .dataframe thead th {\n        text-align: right;\n    }\n</style>\n<table border=\"1\" class=\"dataframe\">\n  <thead>\n    <tr style=\"text-align: right;\">\n      <th></th>\n      <th>Player Name</th>\n      <th>Team</th>\n      <th>Nationality</th>\n      <th>Matches_Played</th>\n      <th>Runs</th>\n      <th>Average</th>\n      <th>Strike_Rate</th>\n      <th>Wickets</th>\n      <th>Bowling_average</th>\n      <th>Economy</th>\n      <th>Bowling_Strike_Rate</th>\n    </tr>\n  </thead>\n  <tbody>\n    <tr>\n      <th>204</th>\n      <td>Andre Russell</td>\n      <td>Kolkata</td>\n      <td>Overseas</td>\n      <td>84.0</td>\n      <td>1700.0</td>\n      <td>29.31</td>\n      <td>178.57</td>\n      <td>72.0</td>\n      <td>26.40</td>\n      <td>9.05</td>\n      <td>17.51</td>\n    </tr>\n    <tr>\n      <th>154</th>\n      <td>K Gowtham</td>\n      <td>Lucknow</td>\n      <td>Indian</td>\n      <td>24.0</td>\n      <td>186.0</td>\n      <td>14.31</td>\n      <td>169.09</td>\n      <td>13.0</td>\n      <td>43.23</td>\n      <td>8.26</td>\n      <td>31.38</td>\n    </tr>\n    <tr>\n      <th>232</th>\n      <td>Sunil Narine</td>\n      <td>Kolkata</td>\n      <td>Overseas</td>\n      <td>134.0</td>\n      <td>954.0</td>\n      <td>15.64</td>\n      <td>161.69</td>\n      <td>143.0</td>\n      <td>24.53</td>\n      <td>6.74</td>\n      <td>21.83</td>\n    </tr>\n    <tr>\n      <th>165</th>\n      <td>Jofra Archer</td>\n      <td>Mumbai</td>\n      <td>Overseas</td>\n      <td>35.0</td>\n      <td>195.0</td>\n      <td>15.00</td>\n      <td>157.26</td>\n      <td>46.0</td>\n      <td>21.33</td>\n      <td>7.13</td>\n      <td>17.93</td>\n    </tr>\n    <tr>\n      <th>211</th>\n      <td>Hardik Pandya</td>\n      <td>Gujarat</td>\n      <td>Indian</td>\n      <td>92.0</td>\n      <td>1476.0</td>\n      <td>27.33</td>\n      <td>153.91</td>\n      <td>42.0</td>\n      <td>31.26</td>\n      <td>9.07</td>\n      <td>20.69</td>\n    </tr>\n  </tbody>\n</table>\n</div>"
          },
          "metadata": {}
        }
      ]
    },
    {
      "cell_type": "code",
      "source": "top_allrounders_runs.head()",
      "metadata": {
        "trusted": true
      },
      "execution_count": 40,
      "outputs": [
        {
          "execution_count": 40,
          "output_type": "execute_result",
          "data": {
            "text/plain": "         Player Name       Team Nationality  Matches_Played    Runs  Average  \\\n233  Kieron Pollard      Mumbai    Overseas           178.0  3268.0    29.98   \n218     Glen Maxwell  Bangalore    Overseas            97.0  2018.0    25.23   \n204    Andre Russell    Kolkata    Overseas            84.0  1700.0    29.31   \n211    Hardik Pandya    Gujarat      Indian            92.0  1476.0    27.33   \n232    Sunil Narine     Kolkata    Overseas           134.0   954.0    15.64   \n\n     Strike_Rate  Wickets  Bowling_average  Economy  Bowling_Strike_Rate  \n233       149.77     65.0            31.62     8.78                21.60  \n218       151.84     22.0            41.59     8.55                29.18  \n204       178.57     72.0            26.40     9.05                17.51  \n211       153.91     42.0            31.26     9.07                20.69  \n232       161.69    143.0            24.53     6.74                21.83  ",
            "text/html": "<div>\n<style scoped>\n    .dataframe tbody tr th:only-of-type {\n        vertical-align: middle;\n    }\n\n    .dataframe tbody tr th {\n        vertical-align: top;\n    }\n\n    .dataframe thead th {\n        text-align: right;\n    }\n</style>\n<table border=\"1\" class=\"dataframe\">\n  <thead>\n    <tr style=\"text-align: right;\">\n      <th></th>\n      <th>Player Name</th>\n      <th>Team</th>\n      <th>Nationality</th>\n      <th>Matches_Played</th>\n      <th>Runs</th>\n      <th>Average</th>\n      <th>Strike_Rate</th>\n      <th>Wickets</th>\n      <th>Bowling_average</th>\n      <th>Economy</th>\n      <th>Bowling_Strike_Rate</th>\n    </tr>\n  </thead>\n  <tbody>\n    <tr>\n      <th>233</th>\n      <td>Kieron Pollard</td>\n      <td>Mumbai</td>\n      <td>Overseas</td>\n      <td>178.0</td>\n      <td>3268.0</td>\n      <td>29.98</td>\n      <td>149.77</td>\n      <td>65.0</td>\n      <td>31.62</td>\n      <td>8.78</td>\n      <td>21.60</td>\n    </tr>\n    <tr>\n      <th>218</th>\n      <td>Glen Maxwell</td>\n      <td>Bangalore</td>\n      <td>Overseas</td>\n      <td>97.0</td>\n      <td>2018.0</td>\n      <td>25.23</td>\n      <td>151.84</td>\n      <td>22.0</td>\n      <td>41.59</td>\n      <td>8.55</td>\n      <td>29.18</td>\n    </tr>\n    <tr>\n      <th>204</th>\n      <td>Andre Russell</td>\n      <td>Kolkata</td>\n      <td>Overseas</td>\n      <td>84.0</td>\n      <td>1700.0</td>\n      <td>29.31</td>\n      <td>178.57</td>\n      <td>72.0</td>\n      <td>26.40</td>\n      <td>9.05</td>\n      <td>17.51</td>\n    </tr>\n    <tr>\n      <th>211</th>\n      <td>Hardik Pandya</td>\n      <td>Gujarat</td>\n      <td>Indian</td>\n      <td>92.0</td>\n      <td>1476.0</td>\n      <td>27.33</td>\n      <td>153.91</td>\n      <td>42.0</td>\n      <td>31.26</td>\n      <td>9.07</td>\n      <td>20.69</td>\n    </tr>\n    <tr>\n      <th>232</th>\n      <td>Sunil Narine</td>\n      <td>Kolkata</td>\n      <td>Overseas</td>\n      <td>134.0</td>\n      <td>954.0</td>\n      <td>15.64</td>\n      <td>161.69</td>\n      <td>143.0</td>\n      <td>24.53</td>\n      <td>6.74</td>\n      <td>21.83</td>\n    </tr>\n  </tbody>\n</table>\n</div>"
          },
          "metadata": {}
        }
      ]
    },
    {
      "cell_type": "code",
      "source": "top_allrounders_matches.head()",
      "metadata": {
        "trusted": true
      },
      "execution_count": 41,
      "outputs": [
        {
          "execution_count": 41,
          "output_type": "execute_result",
          "data": {
            "text/plain": "         Player Name       Team Nationality  Matches_Played    Runs  Average  \\\n233  Kieron Pollard      Mumbai    Overseas           178.0  3268.0    29.98   \n232    Sunil Narine     Kolkata    Overseas           134.0   954.0    15.64   \n218     Glen Maxwell  Bangalore    Overseas            97.0  2018.0    25.23   \n211    Hardik Pandya    Gujarat      Indian            92.0  1476.0    27.33   \n204    Andre Russell    Kolkata    Overseas            84.0  1700.0    29.31   \n\n     Strike_Rate  Wickets  Bowling_average  Economy  Bowling_Strike_Rate  \n233       149.77     65.0            31.62     8.78                21.60  \n232       161.69    143.0            24.53     6.74                21.83  \n218       151.84     22.0            41.59     8.55                29.18  \n211       153.91     42.0            31.26     9.07                20.69  \n204       178.57     72.0            26.40     9.05                17.51  ",
            "text/html": "<div>\n<style scoped>\n    .dataframe tbody tr th:only-of-type {\n        vertical-align: middle;\n    }\n\n    .dataframe tbody tr th {\n        vertical-align: top;\n    }\n\n    .dataframe thead th {\n        text-align: right;\n    }\n</style>\n<table border=\"1\" class=\"dataframe\">\n  <thead>\n    <tr style=\"text-align: right;\">\n      <th></th>\n      <th>Player Name</th>\n      <th>Team</th>\n      <th>Nationality</th>\n      <th>Matches_Played</th>\n      <th>Runs</th>\n      <th>Average</th>\n      <th>Strike_Rate</th>\n      <th>Wickets</th>\n      <th>Bowling_average</th>\n      <th>Economy</th>\n      <th>Bowling_Strike_Rate</th>\n    </tr>\n  </thead>\n  <tbody>\n    <tr>\n      <th>233</th>\n      <td>Kieron Pollard</td>\n      <td>Mumbai</td>\n      <td>Overseas</td>\n      <td>178.0</td>\n      <td>3268.0</td>\n      <td>29.98</td>\n      <td>149.77</td>\n      <td>65.0</td>\n      <td>31.62</td>\n      <td>8.78</td>\n      <td>21.60</td>\n    </tr>\n    <tr>\n      <th>232</th>\n      <td>Sunil Narine</td>\n      <td>Kolkata</td>\n      <td>Overseas</td>\n      <td>134.0</td>\n      <td>954.0</td>\n      <td>15.64</td>\n      <td>161.69</td>\n      <td>143.0</td>\n      <td>24.53</td>\n      <td>6.74</td>\n      <td>21.83</td>\n    </tr>\n    <tr>\n      <th>218</th>\n      <td>Glen Maxwell</td>\n      <td>Bangalore</td>\n      <td>Overseas</td>\n      <td>97.0</td>\n      <td>2018.0</td>\n      <td>25.23</td>\n      <td>151.84</td>\n      <td>22.0</td>\n      <td>41.59</td>\n      <td>8.55</td>\n      <td>29.18</td>\n    </tr>\n    <tr>\n      <th>211</th>\n      <td>Hardik Pandya</td>\n      <td>Gujarat</td>\n      <td>Indian</td>\n      <td>92.0</td>\n      <td>1476.0</td>\n      <td>27.33</td>\n      <td>153.91</td>\n      <td>42.0</td>\n      <td>31.26</td>\n      <td>9.07</td>\n      <td>20.69</td>\n    </tr>\n    <tr>\n      <th>204</th>\n      <td>Andre Russell</td>\n      <td>Kolkata</td>\n      <td>Overseas</td>\n      <td>84.0</td>\n      <td>1700.0</td>\n      <td>29.31</td>\n      <td>178.57</td>\n      <td>72.0</td>\n      <td>26.40</td>\n      <td>9.05</td>\n      <td>17.51</td>\n    </tr>\n  </tbody>\n</table>\n</div>"
          },
          "metadata": {}
        }
      ]
    },
    {
      "cell_type": "code",
      "source": "top_allrounders_bowling_average.head()",
      "metadata": {
        "trusted": true
      },
      "execution_count": 42,
      "outputs": [
        {
          "execution_count": 42,
          "output_type": "execute_result",
          "data": {
            "text/plain": "         Player Name       Team Nationality  Matches_Played    Runs  Average  \\\n154       K Gowtham     Lucknow      Indian            24.0   186.0    14.31   \n218     Glen Maxwell  Bangalore    Overseas            97.0  2018.0    25.23   \n233  Kieron Pollard      Mumbai    Overseas           178.0  3268.0    29.98   \n195   Mohammad Nabi     Kolkata    Overseas            17.0   180.0    15.00   \n211    Hardik Pandya    Gujarat      Indian            92.0  1476.0    27.33   \n\n     Strike_Rate  Wickets  Bowling_average  Economy  Bowling_Strike_Rate  \n154       169.09     13.0            43.23     8.26                31.38  \n218       151.84     22.0            41.59     8.55                29.18  \n233       149.77     65.0            31.62     8.78                21.60  \n195       151.26     13.0            31.38     7.14                26.38  \n211       153.91     42.0            31.26     9.07                20.69  ",
            "text/html": "<div>\n<style scoped>\n    .dataframe tbody tr th:only-of-type {\n        vertical-align: middle;\n    }\n\n    .dataframe tbody tr th {\n        vertical-align: top;\n    }\n\n    .dataframe thead th {\n        text-align: right;\n    }\n</style>\n<table border=\"1\" class=\"dataframe\">\n  <thead>\n    <tr style=\"text-align: right;\">\n      <th></th>\n      <th>Player Name</th>\n      <th>Team</th>\n      <th>Nationality</th>\n      <th>Matches_Played</th>\n      <th>Runs</th>\n      <th>Average</th>\n      <th>Strike_Rate</th>\n      <th>Wickets</th>\n      <th>Bowling_average</th>\n      <th>Economy</th>\n      <th>Bowling_Strike_Rate</th>\n    </tr>\n  </thead>\n  <tbody>\n    <tr>\n      <th>154</th>\n      <td>K Gowtham</td>\n      <td>Lucknow</td>\n      <td>Indian</td>\n      <td>24.0</td>\n      <td>186.0</td>\n      <td>14.31</td>\n      <td>169.09</td>\n      <td>13.0</td>\n      <td>43.23</td>\n      <td>8.26</td>\n      <td>31.38</td>\n    </tr>\n    <tr>\n      <th>218</th>\n      <td>Glen Maxwell</td>\n      <td>Bangalore</td>\n      <td>Overseas</td>\n      <td>97.0</td>\n      <td>2018.0</td>\n      <td>25.23</td>\n      <td>151.84</td>\n      <td>22.0</td>\n      <td>41.59</td>\n      <td>8.55</td>\n      <td>29.18</td>\n    </tr>\n    <tr>\n      <th>233</th>\n      <td>Kieron Pollard</td>\n      <td>Mumbai</td>\n      <td>Overseas</td>\n      <td>178.0</td>\n      <td>3268.0</td>\n      <td>29.98</td>\n      <td>149.77</td>\n      <td>65.0</td>\n      <td>31.62</td>\n      <td>8.78</td>\n      <td>21.60</td>\n    </tr>\n    <tr>\n      <th>195</th>\n      <td>Mohammad Nabi</td>\n      <td>Kolkata</td>\n      <td>Overseas</td>\n      <td>17.0</td>\n      <td>180.0</td>\n      <td>15.00</td>\n      <td>151.26</td>\n      <td>13.0</td>\n      <td>31.38</td>\n      <td>7.14</td>\n      <td>26.38</td>\n    </tr>\n    <tr>\n      <th>211</th>\n      <td>Hardik Pandya</td>\n      <td>Gujarat</td>\n      <td>Indian</td>\n      <td>92.0</td>\n      <td>1476.0</td>\n      <td>27.33</td>\n      <td>153.91</td>\n      <td>42.0</td>\n      <td>31.26</td>\n      <td>9.07</td>\n      <td>20.69</td>\n    </tr>\n  </tbody>\n</table>\n</div>"
          },
          "metadata": {}
        }
      ]
    },
    {
      "cell_type": "code",
      "source": "top_allrounders_wickets.head()",
      "metadata": {
        "trusted": true
      },
      "execution_count": 43,
      "outputs": [
        {
          "execution_count": 43,
          "output_type": "execute_result",
          "data": {
            "text/plain": "         Player Name     Team Nationality  Matches_Played    Runs  Average  \\\n232    Sunil Narine   Kolkata    Overseas           134.0   954.0    15.64   \n204    Andre Russell  Kolkata    Overseas            84.0  1700.0    29.31   \n233  Kieron Pollard    Mumbai    Overseas           178.0  3268.0    29.98   \n165     Jofra Archer   Mumbai    Overseas            35.0   195.0    15.00   \n211    Hardik Pandya  Gujarat      Indian            92.0  1476.0    27.33   \n\n     Strike_Rate  Wickets  Bowling_average  Economy  Bowling_Strike_Rate  \n232       161.69    143.0            24.53     6.74                21.83  \n204       178.57     72.0            26.40     9.05                17.51  \n233       149.77     65.0            31.62     8.78                21.60  \n165       157.26     46.0            21.33     7.13                17.93  \n211       153.91     42.0            31.26     9.07                20.69  ",
            "text/html": "<div>\n<style scoped>\n    .dataframe tbody tr th:only-of-type {\n        vertical-align: middle;\n    }\n\n    .dataframe tbody tr th {\n        vertical-align: top;\n    }\n\n    .dataframe thead th {\n        text-align: right;\n    }\n</style>\n<table border=\"1\" class=\"dataframe\">\n  <thead>\n    <tr style=\"text-align: right;\">\n      <th></th>\n      <th>Player Name</th>\n      <th>Team</th>\n      <th>Nationality</th>\n      <th>Matches_Played</th>\n      <th>Runs</th>\n      <th>Average</th>\n      <th>Strike_Rate</th>\n      <th>Wickets</th>\n      <th>Bowling_average</th>\n      <th>Economy</th>\n      <th>Bowling_Strike_Rate</th>\n    </tr>\n  </thead>\n  <tbody>\n    <tr>\n      <th>232</th>\n      <td>Sunil Narine</td>\n      <td>Kolkata</td>\n      <td>Overseas</td>\n      <td>134.0</td>\n      <td>954.0</td>\n      <td>15.64</td>\n      <td>161.69</td>\n      <td>143.0</td>\n      <td>24.53</td>\n      <td>6.74</td>\n      <td>21.83</td>\n    </tr>\n    <tr>\n      <th>204</th>\n      <td>Andre Russell</td>\n      <td>Kolkata</td>\n      <td>Overseas</td>\n      <td>84.0</td>\n      <td>1700.0</td>\n      <td>29.31</td>\n      <td>178.57</td>\n      <td>72.0</td>\n      <td>26.40</td>\n      <td>9.05</td>\n      <td>17.51</td>\n    </tr>\n    <tr>\n      <th>233</th>\n      <td>Kieron Pollard</td>\n      <td>Mumbai</td>\n      <td>Overseas</td>\n      <td>178.0</td>\n      <td>3268.0</td>\n      <td>29.98</td>\n      <td>149.77</td>\n      <td>65.0</td>\n      <td>31.62</td>\n      <td>8.78</td>\n      <td>21.60</td>\n    </tr>\n    <tr>\n      <th>165</th>\n      <td>Jofra Archer</td>\n      <td>Mumbai</td>\n      <td>Overseas</td>\n      <td>35.0</td>\n      <td>195.0</td>\n      <td>15.00</td>\n      <td>157.26</td>\n      <td>46.0</td>\n      <td>21.33</td>\n      <td>7.13</td>\n      <td>17.93</td>\n    </tr>\n    <tr>\n      <th>211</th>\n      <td>Hardik Pandya</td>\n      <td>Gujarat</td>\n      <td>Indian</td>\n      <td>92.0</td>\n      <td>1476.0</td>\n      <td>27.33</td>\n      <td>153.91</td>\n      <td>42.0</td>\n      <td>31.26</td>\n      <td>9.07</td>\n      <td>20.69</td>\n    </tr>\n  </tbody>\n</table>\n</div>"
          },
          "metadata": {}
        }
      ]
    },
    {
      "cell_type": "code",
      "source": "top_allrounders_economy.head()",
      "metadata": {
        "trusted": true
      },
      "execution_count": 44,
      "outputs": [
        {
          "execution_count": 44,
          "output_type": "execute_result",
          "data": {
            "text/plain": "         Player Name       Team Nationality  Matches_Played    Runs  Average  \\\n211    Hardik Pandya    Gujarat      Indian            92.0  1476.0    27.33   \n204    Andre Russell    Kolkata    Overseas            84.0  1700.0    29.31   \n233  Kieron Pollard      Mumbai    Overseas           178.0  3268.0    29.98   \n218     Glen Maxwell  Bangalore    Overseas            97.0  2018.0    25.23   \n154       K Gowtham     Lucknow      Indian            24.0   186.0    14.31   \n\n     Strike_Rate  Wickets  Bowling_average  Economy  Bowling_Strike_Rate  \n211       153.91     42.0            31.26     9.07                20.69  \n204       178.57     72.0            26.40     9.05                17.51  \n233       149.77     65.0            31.62     8.78                21.60  \n218       151.84     22.0            41.59     8.55                29.18  \n154       169.09     13.0            43.23     8.26                31.38  ",
            "text/html": "<div>\n<style scoped>\n    .dataframe tbody tr th:only-of-type {\n        vertical-align: middle;\n    }\n\n    .dataframe tbody tr th {\n        vertical-align: top;\n    }\n\n    .dataframe thead th {\n        text-align: right;\n    }\n</style>\n<table border=\"1\" class=\"dataframe\">\n  <thead>\n    <tr style=\"text-align: right;\">\n      <th></th>\n      <th>Player Name</th>\n      <th>Team</th>\n      <th>Nationality</th>\n      <th>Matches_Played</th>\n      <th>Runs</th>\n      <th>Average</th>\n      <th>Strike_Rate</th>\n      <th>Wickets</th>\n      <th>Bowling_average</th>\n      <th>Economy</th>\n      <th>Bowling_Strike_Rate</th>\n    </tr>\n  </thead>\n  <tbody>\n    <tr>\n      <th>211</th>\n      <td>Hardik Pandya</td>\n      <td>Gujarat</td>\n      <td>Indian</td>\n      <td>92.0</td>\n      <td>1476.0</td>\n      <td>27.33</td>\n      <td>153.91</td>\n      <td>42.0</td>\n      <td>31.26</td>\n      <td>9.07</td>\n      <td>20.69</td>\n    </tr>\n    <tr>\n      <th>204</th>\n      <td>Andre Russell</td>\n      <td>Kolkata</td>\n      <td>Overseas</td>\n      <td>84.0</td>\n      <td>1700.0</td>\n      <td>29.31</td>\n      <td>178.57</td>\n      <td>72.0</td>\n      <td>26.40</td>\n      <td>9.05</td>\n      <td>17.51</td>\n    </tr>\n    <tr>\n      <th>233</th>\n      <td>Kieron Pollard</td>\n      <td>Mumbai</td>\n      <td>Overseas</td>\n      <td>178.0</td>\n      <td>3268.0</td>\n      <td>29.98</td>\n      <td>149.77</td>\n      <td>65.0</td>\n      <td>31.62</td>\n      <td>8.78</td>\n      <td>21.60</td>\n    </tr>\n    <tr>\n      <th>218</th>\n      <td>Glen Maxwell</td>\n      <td>Bangalore</td>\n      <td>Overseas</td>\n      <td>97.0</td>\n      <td>2018.0</td>\n      <td>25.23</td>\n      <td>151.84</td>\n      <td>22.0</td>\n      <td>41.59</td>\n      <td>8.55</td>\n      <td>29.18</td>\n    </tr>\n    <tr>\n      <th>154</th>\n      <td>K Gowtham</td>\n      <td>Lucknow</td>\n      <td>Indian</td>\n      <td>24.0</td>\n      <td>186.0</td>\n      <td>14.31</td>\n      <td>169.09</td>\n      <td>13.0</td>\n      <td>43.23</td>\n      <td>8.26</td>\n      <td>31.38</td>\n    </tr>\n  </tbody>\n</table>\n</div>"
          },
          "metadata": {}
        }
      ]
    },
    {
      "cell_type": "markdown",
      "source": "we can see that in all the analysis of the allrounders from1-5 parameters.the top allrounders are:\n1.kieron polard\n2.andrew russel\n3.hardik pandya\n",
      "metadata": {}
    },
    {
      "cell_type": "code",
      "source": "#next analysing the keepers data \ntop_keepers=capped_keepers.loc[(capped_keepers[\"Average\"]>=25.0)]\n\n#sorting the data for keepers in ascending order for further analysis\n\ntop_keepers_average=capped_keepers.sort_values('Average',ascending=False)\ntop_keepers_strike_rate=capped_keepers.sort_values('Strike_Rate',ascending=False)\ntop_keepers_runs=capped_keepers.sort_values('Runs',ascending=False)\ntop_keepers_matches=capped_keepers.sort_values('Matches_Played',ascending=False)\ntop_keepers_catches=capped_keepers.sort_values('Catches',ascending=False)\ntop_keepers_runnouts=capped_keepers.sort_values('Run_outs',ascending=False)\ntop_keepers_stumps=capped_keepers.sort_values('Stumps',ascending=False)",
      "metadata": {
        "trusted": true
      },
      "execution_count": 51,
      "outputs": []
    },
    {
      "cell_type": "code",
      "source": "top_keepers_average.head()",
      "metadata": {
        "trusted": true
      },
      "execution_count": 53,
      "outputs": [
        {
          "execution_count": 53,
          "output_type": "execute_result",
          "data": {
            "text/plain": "        Player Name       Team Nationality  Matches_Played    Runs  Average  \\\n108  Jonny Bairstow     Punjab    Overseas            28.0  1038.0    41.50   \n213        MS Dhoni    Chennai      Indian           220.0  4746.0    39.50   \n111       KS Bharat      Delhi      Indian             8.0   191.0    38.20   \n206   Rishabh Pant       Delhi      Indian            84.0  2498.0    35.18   \n219      Jos Butler  Rajasthan    Overseas            65.0  1968.0    35.14   \n\n     Strike_Rate  Catches  Run_outs  Stumps  \n108       142.20     18.0       1.0     4.0  \n213       135.80    126.0      21.0    39.0  \n111       122.40      4.0       0.0     1.0  \n206       147.46     56.0       5.0    14.0  \n219       150.00     34.0       3.0     1.0  ",
            "text/html": "<div>\n<style scoped>\n    .dataframe tbody tr th:only-of-type {\n        vertical-align: middle;\n    }\n\n    .dataframe tbody tr th {\n        vertical-align: top;\n    }\n\n    .dataframe thead th {\n        text-align: right;\n    }\n</style>\n<table border=\"1\" class=\"dataframe\">\n  <thead>\n    <tr style=\"text-align: right;\">\n      <th></th>\n      <th>Player Name</th>\n      <th>Team</th>\n      <th>Nationality</th>\n      <th>Matches_Played</th>\n      <th>Runs</th>\n      <th>Average</th>\n      <th>Strike_Rate</th>\n      <th>Catches</th>\n      <th>Run_outs</th>\n      <th>Stumps</th>\n    </tr>\n  </thead>\n  <tbody>\n    <tr>\n      <th>108</th>\n      <td>Jonny Bairstow</td>\n      <td>Punjab</td>\n      <td>Overseas</td>\n      <td>28.0</td>\n      <td>1038.0</td>\n      <td>41.50</td>\n      <td>142.20</td>\n      <td>18.0</td>\n      <td>1.0</td>\n      <td>4.0</td>\n    </tr>\n    <tr>\n      <th>213</th>\n      <td>MS Dhoni</td>\n      <td>Chennai</td>\n      <td>Indian</td>\n      <td>220.0</td>\n      <td>4746.0</td>\n      <td>39.50</td>\n      <td>135.80</td>\n      <td>126.0</td>\n      <td>21.0</td>\n      <td>39.0</td>\n    </tr>\n    <tr>\n      <th>111</th>\n      <td>KS Bharat</td>\n      <td>Delhi</td>\n      <td>Indian</td>\n      <td>8.0</td>\n      <td>191.0</td>\n      <td>38.20</td>\n      <td>122.40</td>\n      <td>4.0</td>\n      <td>0.0</td>\n      <td>1.0</td>\n    </tr>\n    <tr>\n      <th>206</th>\n      <td>Rishabh Pant</td>\n      <td>Delhi</td>\n      <td>Indian</td>\n      <td>84.0</td>\n      <td>2498.0</td>\n      <td>35.18</td>\n      <td>147.46</td>\n      <td>56.0</td>\n      <td>5.0</td>\n      <td>14.0</td>\n    </tr>\n    <tr>\n      <th>219</th>\n      <td>Jos Butler</td>\n      <td>Rajasthan</td>\n      <td>Overseas</td>\n      <td>65.0</td>\n      <td>1968.0</td>\n      <td>35.14</td>\n      <td>150.00</td>\n      <td>34.0</td>\n      <td>3.0</td>\n      <td>1.0</td>\n    </tr>\n  </tbody>\n</table>\n</div>"
          },
          "metadata": {}
        }
      ]
    },
    {
      "cell_type": "code",
      "source": "top_keepers_strike_rate.head()",
      "metadata": {
        "trusted": true
      },
      "execution_count": 54,
      "outputs": [
        {
          "execution_count": 54,
          "output_type": "execute_result",
          "data": {
            "text/plain": "          Player Name       Team Nationality  Matches_Played    Runs  Average  \\\n110  Nicholas Pooran   Hyderabad    Overseas            33.0   606.0    22.40   \n219        Jos Butler  Rajasthan    Overseas            65.0  1968.0    35.14   \n206     Rishabh Pant       Delhi      Indian            84.0  2498.0    35.18   \n108    Jonny Bairstow     Punjab    Overseas            28.0  1038.0    41.50   \n107      Ishan Kishan     Mumbai      Indian            61.0  1452.0    28.50   \n\n     Strike_Rate  Catches  Run_outs  Stumps  \n110       155.00     11.0       3.0     0.0  \n219       150.00     34.0       3.0     1.0  \n206       147.46     56.0       5.0    14.0  \n108       142.20     18.0       1.0     4.0  \n107       136.30     19.0       1.0     2.0  ",
            "text/html": "<div>\n<style scoped>\n    .dataframe tbody tr th:only-of-type {\n        vertical-align: middle;\n    }\n\n    .dataframe tbody tr th {\n        vertical-align: top;\n    }\n\n    .dataframe thead th {\n        text-align: right;\n    }\n</style>\n<table border=\"1\" class=\"dataframe\">\n  <thead>\n    <tr style=\"text-align: right;\">\n      <th></th>\n      <th>Player Name</th>\n      <th>Team</th>\n      <th>Nationality</th>\n      <th>Matches_Played</th>\n      <th>Runs</th>\n      <th>Average</th>\n      <th>Strike_Rate</th>\n      <th>Catches</th>\n      <th>Run_outs</th>\n      <th>Stumps</th>\n    </tr>\n  </thead>\n  <tbody>\n    <tr>\n      <th>110</th>\n      <td>Nicholas Pooran</td>\n      <td>Hyderabad</td>\n      <td>Overseas</td>\n      <td>33.0</td>\n      <td>606.0</td>\n      <td>22.40</td>\n      <td>155.00</td>\n      <td>11.0</td>\n      <td>3.0</td>\n      <td>0.0</td>\n    </tr>\n    <tr>\n      <th>219</th>\n      <td>Jos Butler</td>\n      <td>Rajasthan</td>\n      <td>Overseas</td>\n      <td>65.0</td>\n      <td>1968.0</td>\n      <td>35.14</td>\n      <td>150.00</td>\n      <td>34.0</td>\n      <td>3.0</td>\n      <td>1.0</td>\n    </tr>\n    <tr>\n      <th>206</th>\n      <td>Rishabh Pant</td>\n      <td>Delhi</td>\n      <td>Indian</td>\n      <td>84.0</td>\n      <td>2498.0</td>\n      <td>35.18</td>\n      <td>147.46</td>\n      <td>56.0</td>\n      <td>5.0</td>\n      <td>14.0</td>\n    </tr>\n    <tr>\n      <th>108</th>\n      <td>Jonny Bairstow</td>\n      <td>Punjab</td>\n      <td>Overseas</td>\n      <td>28.0</td>\n      <td>1038.0</td>\n      <td>41.50</td>\n      <td>142.20</td>\n      <td>18.0</td>\n      <td>1.0</td>\n      <td>4.0</td>\n    </tr>\n    <tr>\n      <th>107</th>\n      <td>Ishan Kishan</td>\n      <td>Mumbai</td>\n      <td>Indian</td>\n      <td>61.0</td>\n      <td>1452.0</td>\n      <td>28.50</td>\n      <td>136.30</td>\n      <td>19.0</td>\n      <td>1.0</td>\n      <td>2.0</td>\n    </tr>\n  </tbody>\n</table>\n</div>"
          },
          "metadata": {}
        }
      ]
    },
    {
      "cell_type": "code",
      "source": "top_keepers_runs.head()",
      "metadata": {
        "trusted": true
      },
      "execution_count": 55,
      "outputs": [
        {
          "execution_count": 55,
          "output_type": "execute_result",
          "data": {
            "text/plain": "        Player Name       Team Nationality  Matches_Played    Runs  Average  \\\n213        MS Dhoni    Chennai      Indian           220.0  4746.0    39.50   \n109  Dinesh Karthik  Bangalore      Indian           213.0  4046.0    25.80   \n106   Ambati Rayudu    Chennai      Indian           175.0  3916.0    29.40   \n209    Sanju Samson  Rajasthan      Indian           121.0  3068.0    29.22   \n206   Rishabh Pant       Delhi      Indian            84.0  2498.0    35.18   \n\n     Strike_Rate  Catches  Run_outs  Stumps  \n213       135.80    126.0      21.0    39.0  \n109       129.70    123.0      14.0    32.0  \n106       127.50     58.0      12.0     2.0  \n209       134.21     59.0       8.0    10.0  \n206       147.46     56.0       5.0    14.0  ",
            "text/html": "<div>\n<style scoped>\n    .dataframe tbody tr th:only-of-type {\n        vertical-align: middle;\n    }\n\n    .dataframe tbody tr th {\n        vertical-align: top;\n    }\n\n    .dataframe thead th {\n        text-align: right;\n    }\n</style>\n<table border=\"1\" class=\"dataframe\">\n  <thead>\n    <tr style=\"text-align: right;\">\n      <th></th>\n      <th>Player Name</th>\n      <th>Team</th>\n      <th>Nationality</th>\n      <th>Matches_Played</th>\n      <th>Runs</th>\n      <th>Average</th>\n      <th>Strike_Rate</th>\n      <th>Catches</th>\n      <th>Run_outs</th>\n      <th>Stumps</th>\n    </tr>\n  </thead>\n  <tbody>\n    <tr>\n      <th>213</th>\n      <td>MS Dhoni</td>\n      <td>Chennai</td>\n      <td>Indian</td>\n      <td>220.0</td>\n      <td>4746.0</td>\n      <td>39.50</td>\n      <td>135.80</td>\n      <td>126.0</td>\n      <td>21.0</td>\n      <td>39.0</td>\n    </tr>\n    <tr>\n      <th>109</th>\n      <td>Dinesh Karthik</td>\n      <td>Bangalore</td>\n      <td>Indian</td>\n      <td>213.0</td>\n      <td>4046.0</td>\n      <td>25.80</td>\n      <td>129.70</td>\n      <td>123.0</td>\n      <td>14.0</td>\n      <td>32.0</td>\n    </tr>\n    <tr>\n      <th>106</th>\n      <td>Ambati Rayudu</td>\n      <td>Chennai</td>\n      <td>Indian</td>\n      <td>175.0</td>\n      <td>3916.0</td>\n      <td>29.40</td>\n      <td>127.50</td>\n      <td>58.0</td>\n      <td>12.0</td>\n      <td>2.0</td>\n    </tr>\n    <tr>\n      <th>209</th>\n      <td>Sanju Samson</td>\n      <td>Rajasthan</td>\n      <td>Indian</td>\n      <td>121.0</td>\n      <td>3068.0</td>\n      <td>29.22</td>\n      <td>134.21</td>\n      <td>59.0</td>\n      <td>8.0</td>\n      <td>10.0</td>\n    </tr>\n    <tr>\n      <th>206</th>\n      <td>Rishabh Pant</td>\n      <td>Delhi</td>\n      <td>Indian</td>\n      <td>84.0</td>\n      <td>2498.0</td>\n      <td>35.18</td>\n      <td>147.46</td>\n      <td>56.0</td>\n      <td>5.0</td>\n      <td>14.0</td>\n    </tr>\n  </tbody>\n</table>\n</div>"
          },
          "metadata": {}
        }
      ]
    },
    {
      "cell_type": "code",
      "source": "top_keepers_matches.head()",
      "metadata": {
        "trusted": true
      },
      "execution_count": 56,
      "outputs": [
        {
          "execution_count": 56,
          "output_type": "execute_result",
          "data": {
            "text/plain": "          Player Name       Team Nationality  Matches_Played    Runs  Average  \\\n213          MS Dhoni    Chennai      Indian           220.0  4746.0    39.50   \n109    Dinesh Karthik  Bangalore      Indian           213.0  4046.0    25.80   \n106     Ambati Rayudu    Chennai      Indian           175.0  3916.0    29.40   \n118  Wridhhiman Saha     Gujarat      Indian           133.0  2110.0    24.50   \n209      Sanju Samson  Rajasthan      Indian           121.0  3068.0    29.22   \n\n     Strike_Rate  Catches  Run_outs  Stumps  \n213       135.80    126.0      21.0    39.0  \n109       129.70    123.0      14.0    32.0  \n106       127.50     58.0      12.0     2.0  \n118       128.70     69.0       3.0    20.0  \n209       134.21     59.0       8.0    10.0  ",
            "text/html": "<div>\n<style scoped>\n    .dataframe tbody tr th:only-of-type {\n        vertical-align: middle;\n    }\n\n    .dataframe tbody tr th {\n        vertical-align: top;\n    }\n\n    .dataframe thead th {\n        text-align: right;\n    }\n</style>\n<table border=\"1\" class=\"dataframe\">\n  <thead>\n    <tr style=\"text-align: right;\">\n      <th></th>\n      <th>Player Name</th>\n      <th>Team</th>\n      <th>Nationality</th>\n      <th>Matches_Played</th>\n      <th>Runs</th>\n      <th>Average</th>\n      <th>Strike_Rate</th>\n      <th>Catches</th>\n      <th>Run_outs</th>\n      <th>Stumps</th>\n    </tr>\n  </thead>\n  <tbody>\n    <tr>\n      <th>213</th>\n      <td>MS Dhoni</td>\n      <td>Chennai</td>\n      <td>Indian</td>\n      <td>220.0</td>\n      <td>4746.0</td>\n      <td>39.50</td>\n      <td>135.80</td>\n      <td>126.0</td>\n      <td>21.0</td>\n      <td>39.0</td>\n    </tr>\n    <tr>\n      <th>109</th>\n      <td>Dinesh Karthik</td>\n      <td>Bangalore</td>\n      <td>Indian</td>\n      <td>213.0</td>\n      <td>4046.0</td>\n      <td>25.80</td>\n      <td>129.70</td>\n      <td>123.0</td>\n      <td>14.0</td>\n      <td>32.0</td>\n    </tr>\n    <tr>\n      <th>106</th>\n      <td>Ambati Rayudu</td>\n      <td>Chennai</td>\n      <td>Indian</td>\n      <td>175.0</td>\n      <td>3916.0</td>\n      <td>29.40</td>\n      <td>127.50</td>\n      <td>58.0</td>\n      <td>12.0</td>\n      <td>2.0</td>\n    </tr>\n    <tr>\n      <th>118</th>\n      <td>Wridhhiman Saha</td>\n      <td>Gujarat</td>\n      <td>Indian</td>\n      <td>133.0</td>\n      <td>2110.0</td>\n      <td>24.50</td>\n      <td>128.70</td>\n      <td>69.0</td>\n      <td>3.0</td>\n      <td>20.0</td>\n    </tr>\n    <tr>\n      <th>209</th>\n      <td>Sanju Samson</td>\n      <td>Rajasthan</td>\n      <td>Indian</td>\n      <td>121.0</td>\n      <td>3068.0</td>\n      <td>29.22</td>\n      <td>134.21</td>\n      <td>59.0</td>\n      <td>8.0</td>\n      <td>10.0</td>\n    </tr>\n  </tbody>\n</table>\n</div>"
          },
          "metadata": {}
        }
      ]
    },
    {
      "cell_type": "code",
      "source": "top_keepers_catches.head()",
      "metadata": {
        "trusted": true
      },
      "execution_count": 57,
      "outputs": [
        {
          "execution_count": 57,
          "output_type": "execute_result",
          "data": {
            "text/plain": "          Player Name       Team Nationality  Matches_Played    Runs  Average  \\\n213          MS Dhoni    Chennai      Indian           220.0  4746.0    39.50   \n109    Dinesh Karthik  Bangalore      Indian           213.0  4046.0    25.80   \n118  Wridhhiman Saha     Gujarat      Indian           133.0  2110.0    24.50   \n209      Sanju Samson  Rajasthan      Indian           121.0  3068.0    29.22   \n106     Ambati Rayudu    Chennai      Indian           175.0  3916.0    29.40   \n\n     Strike_Rate  Catches  Run_outs  Stumps  \n213       135.80    126.0      21.0    39.0  \n109       129.70    123.0      14.0    32.0  \n118       128.70     69.0       3.0    20.0  \n209       134.21     59.0       8.0    10.0  \n106       127.50     58.0      12.0     2.0  ",
            "text/html": "<div>\n<style scoped>\n    .dataframe tbody tr th:only-of-type {\n        vertical-align: middle;\n    }\n\n    .dataframe tbody tr th {\n        vertical-align: top;\n    }\n\n    .dataframe thead th {\n        text-align: right;\n    }\n</style>\n<table border=\"1\" class=\"dataframe\">\n  <thead>\n    <tr style=\"text-align: right;\">\n      <th></th>\n      <th>Player Name</th>\n      <th>Team</th>\n      <th>Nationality</th>\n      <th>Matches_Played</th>\n      <th>Runs</th>\n      <th>Average</th>\n      <th>Strike_Rate</th>\n      <th>Catches</th>\n      <th>Run_outs</th>\n      <th>Stumps</th>\n    </tr>\n  </thead>\n  <tbody>\n    <tr>\n      <th>213</th>\n      <td>MS Dhoni</td>\n      <td>Chennai</td>\n      <td>Indian</td>\n      <td>220.0</td>\n      <td>4746.0</td>\n      <td>39.50</td>\n      <td>135.80</td>\n      <td>126.0</td>\n      <td>21.0</td>\n      <td>39.0</td>\n    </tr>\n    <tr>\n      <th>109</th>\n      <td>Dinesh Karthik</td>\n      <td>Bangalore</td>\n      <td>Indian</td>\n      <td>213.0</td>\n      <td>4046.0</td>\n      <td>25.80</td>\n      <td>129.70</td>\n      <td>123.0</td>\n      <td>14.0</td>\n      <td>32.0</td>\n    </tr>\n    <tr>\n      <th>118</th>\n      <td>Wridhhiman Saha</td>\n      <td>Gujarat</td>\n      <td>Indian</td>\n      <td>133.0</td>\n      <td>2110.0</td>\n      <td>24.50</td>\n      <td>128.70</td>\n      <td>69.0</td>\n      <td>3.0</td>\n      <td>20.0</td>\n    </tr>\n    <tr>\n      <th>209</th>\n      <td>Sanju Samson</td>\n      <td>Rajasthan</td>\n      <td>Indian</td>\n      <td>121.0</td>\n      <td>3068.0</td>\n      <td>29.22</td>\n      <td>134.21</td>\n      <td>59.0</td>\n      <td>8.0</td>\n      <td>10.0</td>\n    </tr>\n    <tr>\n      <th>106</th>\n      <td>Ambati Rayudu</td>\n      <td>Chennai</td>\n      <td>Indian</td>\n      <td>175.0</td>\n      <td>3916.0</td>\n      <td>29.40</td>\n      <td>127.50</td>\n      <td>58.0</td>\n      <td>12.0</td>\n      <td>2.0</td>\n    </tr>\n  </tbody>\n</table>\n</div>"
          },
          "metadata": {}
        }
      ]
    },
    {
      "cell_type": "code",
      "source": "top_keepers_runnouts.head()",
      "metadata": {
        "trusted": true
      },
      "execution_count": 60,
      "outputs": [
        {
          "execution_count": 60,
          "output_type": "execute_result",
          "data": {
            "text/plain": "        Player Name       Team Nationality  Matches_Played    Runs  Average  \\\n213        MS Dhoni    Chennai      Indian           220.0  4746.0    39.50   \n109  Dinesh Karthik  Bangalore      Indian           213.0  4046.0    25.80   \n106   Ambati Rayudu    Chennai      Indian           175.0  3916.0    29.40   \n209    Sanju Samson  Rajasthan      Indian           121.0  3068.0    29.22   \n206   Rishabh Pant       Delhi      Indian            84.0  2498.0    35.18   \n\n     Strike_Rate  Catches  Run_outs  Stumps  \n213       135.80    126.0      21.0    39.0  \n109       129.70    123.0      14.0    32.0  \n106       127.50     58.0      12.0     2.0  \n209       134.21     59.0       8.0    10.0  \n206       147.46     56.0       5.0    14.0  ",
            "text/html": "<div>\n<style scoped>\n    .dataframe tbody tr th:only-of-type {\n        vertical-align: middle;\n    }\n\n    .dataframe tbody tr th {\n        vertical-align: top;\n    }\n\n    .dataframe thead th {\n        text-align: right;\n    }\n</style>\n<table border=\"1\" class=\"dataframe\">\n  <thead>\n    <tr style=\"text-align: right;\">\n      <th></th>\n      <th>Player Name</th>\n      <th>Team</th>\n      <th>Nationality</th>\n      <th>Matches_Played</th>\n      <th>Runs</th>\n      <th>Average</th>\n      <th>Strike_Rate</th>\n      <th>Catches</th>\n      <th>Run_outs</th>\n      <th>Stumps</th>\n    </tr>\n  </thead>\n  <tbody>\n    <tr>\n      <th>213</th>\n      <td>MS Dhoni</td>\n      <td>Chennai</td>\n      <td>Indian</td>\n      <td>220.0</td>\n      <td>4746.0</td>\n      <td>39.50</td>\n      <td>135.80</td>\n      <td>126.0</td>\n      <td>21.0</td>\n      <td>39.0</td>\n    </tr>\n    <tr>\n      <th>109</th>\n      <td>Dinesh Karthik</td>\n      <td>Bangalore</td>\n      <td>Indian</td>\n      <td>213.0</td>\n      <td>4046.0</td>\n      <td>25.80</td>\n      <td>129.70</td>\n      <td>123.0</td>\n      <td>14.0</td>\n      <td>32.0</td>\n    </tr>\n    <tr>\n      <th>106</th>\n      <td>Ambati Rayudu</td>\n      <td>Chennai</td>\n      <td>Indian</td>\n      <td>175.0</td>\n      <td>3916.0</td>\n      <td>29.40</td>\n      <td>127.50</td>\n      <td>58.0</td>\n      <td>12.0</td>\n      <td>2.0</td>\n    </tr>\n    <tr>\n      <th>209</th>\n      <td>Sanju Samson</td>\n      <td>Rajasthan</td>\n      <td>Indian</td>\n      <td>121.0</td>\n      <td>3068.0</td>\n      <td>29.22</td>\n      <td>134.21</td>\n      <td>59.0</td>\n      <td>8.0</td>\n      <td>10.0</td>\n    </tr>\n    <tr>\n      <th>206</th>\n      <td>Rishabh Pant</td>\n      <td>Delhi</td>\n      <td>Indian</td>\n      <td>84.0</td>\n      <td>2498.0</td>\n      <td>35.18</td>\n      <td>147.46</td>\n      <td>56.0</td>\n      <td>5.0</td>\n      <td>14.0</td>\n    </tr>\n  </tbody>\n</table>\n</div>"
          },
          "metadata": {}
        }
      ]
    },
    {
      "cell_type": "code",
      "source": "top_keepers_stumps.head()",
      "metadata": {
        "trusted": true
      },
      "execution_count": 61,
      "outputs": [
        {
          "execution_count": 61,
          "output_type": "execute_result",
          "data": {
            "text/plain": "          Player Name       Team Nationality  Matches_Played    Runs  Average  \\\n213          MS Dhoni    Chennai      Indian           220.0  4746.0    39.50   \n109    Dinesh Karthik  Bangalore      Indian           213.0  4046.0    25.80   \n118  Wridhhiman Saha     Gujarat      Indian           133.0  2110.0    24.50   \n105   Quinton De Kock    Lucknow    Overseas            77.0  2256.0    31.30   \n206     Rishabh Pant       Delhi      Indian            84.0  2498.0    35.18   \n\n     Strike_Rate  Catches  Run_outs  Stumps  \n213       135.80    126.0      21.0    39.0  \n109       129.70    123.0      14.0    32.0  \n118       128.70     69.0       3.0    20.0  \n105       130.90     53.0       0.0    14.0  \n206       147.46     56.0       5.0    14.0  ",
            "text/html": "<div>\n<style scoped>\n    .dataframe tbody tr th:only-of-type {\n        vertical-align: middle;\n    }\n\n    .dataframe tbody tr th {\n        vertical-align: top;\n    }\n\n    .dataframe thead th {\n        text-align: right;\n    }\n</style>\n<table border=\"1\" class=\"dataframe\">\n  <thead>\n    <tr style=\"text-align: right;\">\n      <th></th>\n      <th>Player Name</th>\n      <th>Team</th>\n      <th>Nationality</th>\n      <th>Matches_Played</th>\n      <th>Runs</th>\n      <th>Average</th>\n      <th>Strike_Rate</th>\n      <th>Catches</th>\n      <th>Run_outs</th>\n      <th>Stumps</th>\n    </tr>\n  </thead>\n  <tbody>\n    <tr>\n      <th>213</th>\n      <td>MS Dhoni</td>\n      <td>Chennai</td>\n      <td>Indian</td>\n      <td>220.0</td>\n      <td>4746.0</td>\n      <td>39.50</td>\n      <td>135.80</td>\n      <td>126.0</td>\n      <td>21.0</td>\n      <td>39.0</td>\n    </tr>\n    <tr>\n      <th>109</th>\n      <td>Dinesh Karthik</td>\n      <td>Bangalore</td>\n      <td>Indian</td>\n      <td>213.0</td>\n      <td>4046.0</td>\n      <td>25.80</td>\n      <td>129.70</td>\n      <td>123.0</td>\n      <td>14.0</td>\n      <td>32.0</td>\n    </tr>\n    <tr>\n      <th>118</th>\n      <td>Wridhhiman Saha</td>\n      <td>Gujarat</td>\n      <td>Indian</td>\n      <td>133.0</td>\n      <td>2110.0</td>\n      <td>24.50</td>\n      <td>128.70</td>\n      <td>69.0</td>\n      <td>3.0</td>\n      <td>20.0</td>\n    </tr>\n    <tr>\n      <th>105</th>\n      <td>Quinton De Kock</td>\n      <td>Lucknow</td>\n      <td>Overseas</td>\n      <td>77.0</td>\n      <td>2256.0</td>\n      <td>31.30</td>\n      <td>130.90</td>\n      <td>53.0</td>\n      <td>0.0</td>\n      <td>14.0</td>\n    </tr>\n    <tr>\n      <th>206</th>\n      <td>Rishabh Pant</td>\n      <td>Delhi</td>\n      <td>Indian</td>\n      <td>84.0</td>\n      <td>2498.0</td>\n      <td>35.18</td>\n      <td>147.46</td>\n      <td>56.0</td>\n      <td>5.0</td>\n      <td>14.0</td>\n    </tr>\n  </tbody>\n</table>\n</div>"
          },
          "metadata": {}
        }
      ]
    },
    {
      "cell_type": "markdown",
      "source": "if we rank the players according to the rank on the basis of he above parameters\n1.ms dhoni\n2.dinesh karthick\n3.rishabh pant",
      "metadata": {}
    },
    {
      "cell_type": "markdown",
      "source": "RESULT FROM OUR ANALYSIS\nKL RAHUL,DAVID WARNER,VIRAT KOHLI,ANDRE RUSSEL ,SUNIL NARAINE,HARDIK PANDYA,MS DHONI,\nCOULTER NILE,KAGISO RABADA,JASPRIT BUMRAH,YUZUVENDRA CHAHAL\n\nThese players are the playing 11 according to the analysis that we have done as so far!\n\n\n",
      "metadata": {}
    },
    {
      "cell_type": "code",
      "source": "",
      "metadata": {
        "trusted": true
      },
      "execution_count": null,
      "outputs": []
    },
    {
      "cell_type": "code",
      "source": "",
      "metadata": {
        "trusted": true
      },
      "execution_count": null,
      "outputs": []
    },
    {
      "cell_type": "code",
      "source": "",
      "metadata": {},
      "execution_count": null,
      "outputs": []
    }
  ]
}